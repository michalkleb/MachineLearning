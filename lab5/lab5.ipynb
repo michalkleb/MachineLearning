{
 "cells": [
  {
   "cell_type": "code",
   "execution_count": 1,
   "metadata": {},
   "outputs": [],
   "source": [
    "import pandas as pd\n",
    "import numpy as np\n",
    "from sklearn.ensemble import RandomForestClassifier, GradientBoostingClassifier, AdaBoostClassifier\n",
    "from sklearn.linear_model import LogisticRegression\n",
    "from sklearn.metrics import roc_auc_score"
   ]
  },
  {
   "cell_type": "markdown",
   "metadata": {},
   "source": [
    "Wczytanie danych:"
   ]
  },
  {
   "cell_type": "code",
   "execution_count": 2,
   "metadata": {},
   "outputs": [],
   "source": [
    "y_train=pd.read_csv('y_train.csv')\n",
    "y_test=pd.read_csv('y_test.csv')\n",
    "X_train=pd.read_csv('X_train.csv')\n",
    "X_test=pd.read_csv('X_test.csv')"
   ]
  },
  {
   "cell_type": "code",
   "execution_count": 3,
   "metadata": {},
   "outputs": [
    {
     "data": {
      "text/html": [
       "<div>\n",
       "<style scoped>\n",
       "    .dataframe tbody tr th:only-of-type {\n",
       "        vertical-align: middle;\n",
       "    }\n",
       "\n",
       "    .dataframe tbody tr th {\n",
       "        vertical-align: top;\n",
       "    }\n",
       "\n",
       "    .dataframe thead th {\n",
       "        text-align: right;\n",
       "    }\n",
       "</style>\n",
       "<table border=\"1\" class=\"dataframe\">\n",
       "  <thead>\n",
       "    <tr style=\"text-align: right;\">\n",
       "      <th></th>\n",
       "      <th>sex</th>\n",
       "      <th>cabin</th>\n",
       "      <th>CabinReduced</th>\n",
       "      <th>cabin_map</th>\n",
       "      <th>cabin_map_reduced</th>\n",
       "      <th>sex_map</th>\n",
       "    </tr>\n",
       "  </thead>\n",
       "  <tbody>\n",
       "    <tr>\n",
       "      <th>0</th>\n",
       "      <td>female</td>\n",
       "      <td>NaN</td>\n",
       "      <td>NaN</td>\n",
       "      <td>6</td>\n",
       "      <td>5</td>\n",
       "      <td>0</td>\n",
       "    </tr>\n",
       "    <tr>\n",
       "      <th>1</th>\n",
       "      <td>female</td>\n",
       "      <td>NaN</td>\n",
       "      <td>NaN</td>\n",
       "      <td>6</td>\n",
       "      <td>5</td>\n",
       "      <td>0</td>\n",
       "    </tr>\n",
       "    <tr>\n",
       "      <th>2</th>\n",
       "      <td>female</td>\n",
       "      <td>NaN</td>\n",
       "      <td>NaN</td>\n",
       "      <td>6</td>\n",
       "      <td>5</td>\n",
       "      <td>0</td>\n",
       "    </tr>\n",
       "    <tr>\n",
       "      <th>3</th>\n",
       "      <td>male</td>\n",
       "      <td>NaN</td>\n",
       "      <td>NaN</td>\n",
       "      <td>6</td>\n",
       "      <td>5</td>\n",
       "      <td>1</td>\n",
       "    </tr>\n",
       "    <tr>\n",
       "      <th>4</th>\n",
       "      <td>female</td>\n",
       "      <td>NaN</td>\n",
       "      <td>NaN</td>\n",
       "      <td>6</td>\n",
       "      <td>5</td>\n",
       "      <td>0</td>\n",
       "    </tr>\n",
       "    <tr>\n",
       "      <th>...</th>\n",
       "      <td>...</td>\n",
       "      <td>...</td>\n",
       "      <td>...</td>\n",
       "      <td>...</td>\n",
       "      <td>...</td>\n",
       "      <td>...</td>\n",
       "    </tr>\n",
       "    <tr>\n",
       "      <th>911</th>\n",
       "      <td>female</td>\n",
       "      <td>NaN</td>\n",
       "      <td>NaN</td>\n",
       "      <td>6</td>\n",
       "      <td>5</td>\n",
       "      <td>0</td>\n",
       "    </tr>\n",
       "    <tr>\n",
       "      <th>912</th>\n",
       "      <td>male</td>\n",
       "      <td>NaN</td>\n",
       "      <td>NaN</td>\n",
       "      <td>6</td>\n",
       "      <td>5</td>\n",
       "      <td>1</td>\n",
       "    </tr>\n",
       "    <tr>\n",
       "      <th>913</th>\n",
       "      <td>female</td>\n",
       "      <td>NaN</td>\n",
       "      <td>NaN</td>\n",
       "      <td>6</td>\n",
       "      <td>5</td>\n",
       "      <td>0</td>\n",
       "    </tr>\n",
       "    <tr>\n",
       "      <th>914</th>\n",
       "      <td>female</td>\n",
       "      <td>NaN</td>\n",
       "      <td>NaN</td>\n",
       "      <td>6</td>\n",
       "      <td>5</td>\n",
       "      <td>0</td>\n",
       "    </tr>\n",
       "    <tr>\n",
       "      <th>915</th>\n",
       "      <td>female</td>\n",
       "      <td>NaN</td>\n",
       "      <td>NaN</td>\n",
       "      <td>6</td>\n",
       "      <td>5</td>\n",
       "      <td>0</td>\n",
       "    </tr>\n",
       "  </tbody>\n",
       "</table>\n",
       "<p>916 rows × 6 columns</p>\n",
       "</div>"
      ],
      "text/plain": [
       "        sex cabin CabinReduced  cabin_map  cabin_map_reduced  sex_map\n",
       "0    female   NaN          NaN          6                  5        0\n",
       "1    female   NaN          NaN          6                  5        0\n",
       "2    female   NaN          NaN          6                  5        0\n",
       "3      male   NaN          NaN          6                  5        1\n",
       "4    female   NaN          NaN          6                  5        0\n",
       "..      ...   ...          ...        ...                ...      ...\n",
       "911  female   NaN          NaN          6                  5        0\n",
       "912    male   NaN          NaN          6                  5        1\n",
       "913  female   NaN          NaN          6                  5        0\n",
       "914  female   NaN          NaN          6                  5        0\n",
       "915  female   NaN          NaN          6                  5        0\n",
       "\n",
       "[916 rows x 6 columns]"
      ]
     },
     "execution_count": 3,
     "metadata": {},
     "output_type": "execute_result"
    }
   ],
   "source": [
    "X_train"
   ]
  },
  {
   "cell_type": "markdown",
   "metadata": {},
   "source": [
    "<h2> Random Forest<h2>"
   ]
  },
  {
   "cell_type": "markdown",
   "metadata": {},
   "source": [
    "**Algorytm Random Forests** jest to estymator który dopasowuje wiele drzew decyzyjnych do próbek pobranych z badanego zbioru danych.\n",
    "Przy pomocy uśredniania steruje dokładnością predykcji i kontroluje zjawisko over-fittingu. \n",
    "\n",
    "RandomForestClassifier, parametry:\n",
    "- n_estimators - liczba drzew w lesie\n",
    "- random state - kontroluje losowość procesu bootstrapingu "
   ]
  },
  {
   "cell_type": "markdown",
   "metadata": {},
   "source": [
    "**Dane o dużej liczebności cech:**"
   ]
  },
  {
   "cell_type": "code",
   "execution_count": 4,
   "metadata": {},
   "outputs": [],
   "source": [
    "#Tworzenie modelu\n",
    "RF = RandomForestClassifier(n_estimators=220,random_state=42)\n",
    "\n",
    "#Trenowanie modelu\n",
    "RF.fit(X_train[['sex_map','cabin_map']],np.ravel(y_train))\n",
    "\n",
    "#Predykcja\n",
    "PredTrain = RF.predict_proba(X_train[['sex_map','cabin_map']])\n",
    "PredTest = RF.predict_proba(X_test[['sex_map','cabin_map']].fillna(0))\n",
    "\n"
   ]
  },
  {
   "cell_type": "code",
   "execution_count": 5,
   "metadata": {},
   "outputs": [
    {
     "name": "stdout",
     "output_type": "stream",
     "text": [
      "Dane testowe: 0.7627758420441345\n",
      "Dane treningowe: 0.8529126140314685\n"
     ]
    }
   ],
   "source": [
    "print('Dane testowe: {}'.format(roc_auc_score(y_test,PredTest[:, 1])))\n",
    "print('Dane treningowe: {}'.format(roc_auc_score(y_train,PredTrain[:, 1])))"
   ]
  },
  {
   "cell_type": "markdown",
   "metadata": {},
   "source": [
    "**Dane o małej liczebności cech:**"
   ]
  },
  {
   "cell_type": "code",
   "execution_count": 6,
   "metadata": {},
   "outputs": [],
   "source": [
    "#Trenowanie modelu\n",
    "RF.fit(X_train[['sex_map','cabin_map']],np.ravel(y_train))\n",
    "\n",
    "#Predykcja\n",
    "PredTrain = RF.predict_proba(X_train[['sex_map','cabin_map_reduced']])\n",
    "PredTest = RF.predict_proba(X_test[['sex_map','cabin_map_reduced']].fillna(0))"
   ]
  },
  {
   "cell_type": "code",
   "execution_count": 7,
   "metadata": {},
   "outputs": [
    {
     "name": "stdout",
     "output_type": "stream",
     "text": [
      "Dane testowe: 0.7017449256125214\n",
      "Dane treningowe: 0.7334544301822994\n"
     ]
    }
   ],
   "source": [
    "print('Dane testowe: {}'.format(roc_auc_score(y_test,PredTest[:, 1])))\n",
    "print('Dane treningowe: {}'.format(roc_auc_score(y_train,PredTrain[:, 1])))"
   ]
  },
  {
   "cell_type": "markdown",
   "metadata": {},
   "source": [
    "W przypadku algorytmu Random Forests dane o dużej liczebności cech uzyskały lepsze wyniki niż dane o małej liczebności, ponieważ przez dużą kardynalnośc cech nastąpiło zjawisko overfittingu -> wynik dla danych treningowych (0,85) zauważalnie lepszy niż dla danych testowych (0,76)."
   ]
  },
  {
   "cell_type": "markdown",
   "metadata": {},
   "source": [
    "<h2> Logistic Regression<h2>"
   ]
  },
  {
   "cell_type": "markdown",
   "metadata": {},
   "source": [
    "**Dane o małej liczebności cech**"
   ]
  },
  {
   "cell_type": "code",
   "execution_count": 8,
   "metadata": {},
   "outputs": [],
   "source": [
    "#Tworzenie modelu\n",
    "LR = LogisticRegression(random_state=42)\n",
    "\n",
    "#Trenowanie modelu\n",
    "LR.fit(X_train[['sex_map','cabin_map_reduced']],np.ravel(y_train))\n",
    "\n",
    "#Predykcja\n",
    "PredTrain = LR.predict_proba(X_train[['sex_map','cabin_map_reduced']])\n",
    "PredTest = LR.predict_proba(X_test[['sex_map','cabin_map_reduced']].fillna(0))"
   ]
  },
  {
   "cell_type": "code",
   "execution_count": 9,
   "metadata": {},
   "outputs": [
    {
     "name": "stdout",
     "output_type": "stream",
     "text": [
      "Dane testowe: 0.8022648083623694\n",
      "Dane treningowe: 0.8026507127438499\n"
     ]
    }
   ],
   "source": [
    "print('Dane testowe: {}'.format(roc_auc_score(y_test,PredTest[:, 1])))\n",
    "print('Dane treningowe: {}'.format(roc_auc_score(y_train,PredTrain[:, 1])))"
   ]
  },
  {
   "cell_type": "markdown",
   "metadata": {},
   "source": [
    "\n",
    "**Dane o dużej liczebności cech**"
   ]
  },
  {
   "cell_type": "code",
   "execution_count": 10,
   "metadata": {},
   "outputs": [],
   "source": [
    "#Trenowanie modelu\n",
    "LR.fit(X_train[['sex_map','cabin_map']],np.ravel(y_train))\n",
    "\n",
    "#Predykcja\n",
    "PredTrain = LR.predict_proba(X_train[['sex_map','cabin_map']])\n",
    "PredTest = LR.predict_proba(X_test[['sex_map','cabin_map']].fillna(0))"
   ]
  },
  {
   "cell_type": "code",
   "execution_count": 11,
   "metadata": {},
   "outputs": [
    {
     "name": "stdout",
     "output_type": "stream",
     "text": [
      "Dane testowe: 0.7899867263978761\n",
      "Dane treningowe: 0.8121757682186185\n"
     ]
    }
   ],
   "source": [
    "print('Dane testowe: {}'.format(roc_auc_score(y_test,PredTest[:, 1])))\n",
    "print('Dane treningowe: {}'.format(roc_auc_score(y_train,PredTrain[:, 1])))"
   ]
  },
  {
   "cell_type": "markdown",
   "metadata": {},
   "source": [
    "W przypadku algorytmu LogisticReggresion wyniki dla obu zbiorów, o dużej i małej kardynalności, są dla siebie zbliżone, przy czym dla zbioru o małej liczebności cech różnica pomiędzy zbiorem testowym i treningowym jest minimalna i wynosi jedynie 0.0004, co wskazuje wystąpienie zjawiska underfittingu. Różnica pomiędzy zbiorami treningowym i testowym dla danych o dużej liczebności cech wynosi 0.2 co wskazuje na lepsze dopasowanie."
   ]
  },
  {
   "cell_type": "markdown",
   "metadata": {},
   "source": [
    "<h2> Gradient Boosting Classifier<h2>"
   ]
  },
  {
   "cell_type": "markdown",
   "metadata": {},
   "source": [
    "**Dane o dużej liczebności cech**"
   ]
  },
  {
   "cell_type": "code",
   "execution_count": 12,
   "metadata": {},
   "outputs": [],
   "source": [
    "#Tworzenie modelu\n",
    "GBC = GradientBoostingClassifier(n_estimators =220, random_state=42)\n",
    "\n",
    "#Trenowanie modelu\n",
    "GBC.fit(X_train[['sex_map','cabin_map']],np.ravel(y_train))\n",
    "\n",
    "#Predykcja\n",
    "PredTrain = GBC.predict_proba(X_train[['sex_map','cabin_map']])\n",
    "PredTest = GBC.predict_proba(X_test[['sex_map','cabin_map']].fillna(0))"
   ]
  },
  {
   "cell_type": "code",
   "execution_count": 13,
   "metadata": {},
   "outputs": [
    {
     "name": "stdout",
     "output_type": "stream",
     "text": [
      "Dane testowe: 0.7561805209888833\n",
      "Dane treningowe: 0.8604375588082864\n"
     ]
    }
   ],
   "source": [
    "print('Dane testowe: {}'.format(roc_auc_score(y_test,PredTest[:, 1])))\n",
    "print('Dane treningowe: {}'.format(roc_auc_score(y_train,PredTrain[:, 1])))"
   ]
  },
  {
   "cell_type": "markdown",
   "metadata": {},
   "source": [
    "**Dane o małej liczebości cech**"
   ]
  },
  {
   "cell_type": "code",
   "execution_count": 14,
   "metadata": {},
   "outputs": [],
   "source": [
    "#Trenowanie modelu\n",
    "GBC.fit(X_train[['sex_map','cabin_map_reduced']],np.ravel(y_train))\n",
    "\n",
    "#Predykcja\n",
    "PredTrain = GBC.predict_proba(X_train[['sex_map','cabin_map_reduced']])\n",
    "PredTest = GBC.predict_proba(X_test[['sex_map','cabin_map_reduced']].fillna(0))"
   ]
  },
  {
   "cell_type": "code",
   "execution_count": 15,
   "metadata": {},
   "outputs": [
    {
     "name": "stdout",
     "output_type": "stream",
     "text": [
      "Dane testowe: 0.8013245948786019\n",
      "Dane treningowe: 0.816719415917359\n"
     ]
    }
   ],
   "source": [
    "print('Dane testowe: {}'.format(roc_auc_score(y_test,PredTest[:, 1])))\n",
    "print('Dane treningowe: {}'.format(roc_auc_score(y_train,PredTrain[:, 1])))"
   ]
  },
  {
   "cell_type": "markdown",
   "metadata": {},
   "source": [
    "Dla Gradient Boosting Classifier Dane o dużej liczebności cech wskazują na występowanie zjawiska overfittingu (dane treningowe - 0.86, dane testowe - 0.75). Dla danych o małej kardynalności różnica pomiędzy zbiorami wynosi 0.01."
   ]
  },
  {
   "cell_type": "markdown",
   "metadata": {},
   "source": [
    "<h2> Ada Boost Classifier<h2>"
   ]
  },
  {
   "cell_type": "markdown",
   "metadata": {},
   "source": [
    "**Dane o dużej liczebności**"
   ]
  },
  {
   "cell_type": "code",
   "execution_count": 20,
   "metadata": {},
   "outputs": [],
   "source": [
    "#Tworzenie modelu\n",
    "ADC = AdaBoostClassifier(n_estimators =220, random_state=42)\n",
    "\n",
    "#Trenowanie modelu\n",
    "ADC.fit(X_train[['sex_map','cabin_map']],np.ravel(y_train))\n",
    "\n",
    "#Predykcja\n",
    "PredTrain = ADC.predict_proba(X_train[['sex_map','cabin_map']])\n",
    "PredTest = ADC.predict_proba(X_test[['sex_map','cabin_map']].fillna(0))"
   ]
  },
  {
   "cell_type": "code",
   "execution_count": 21,
   "metadata": {},
   "outputs": [
    {
     "name": "stdout",
     "output_type": "stream",
     "text": [
      "Dane testowe: 0.7776809910956253\n",
      "Dane treningowe: 0.8330800698403434\n"
     ]
    }
   ],
   "source": [
    "print('Dane testowe: {}'.format(roc_auc_score(y_test,PredTest[:, 1])))\n",
    "print('Dane treningowe: {}'.format(roc_auc_score(y_train,PredTrain[:, 1])))"
   ]
  },
  {
   "cell_type": "markdown",
   "metadata": {},
   "source": [
    "**Dane o małej liczebnośći**"
   ]
  },
  {
   "cell_type": "code",
   "execution_count": 22,
   "metadata": {},
   "outputs": [],
   "source": [
    "#Trenowanie modelu\n",
    "ADC.fit(X_train[['sex_map','cabin_map_reduced']],np.ravel(y_train))\n",
    "\n",
    "#Predykcja\n",
    "PredTrain = ADC.predict_proba(X_train[['sex_map','cabin_map_reduced']])\n",
    "PredTest = ADC.predict_proba(X_test[['sex_map','cabin_map_reduced']].fillna(0))"
   ]
  },
  {
   "cell_type": "code",
   "execution_count": 23,
   "metadata": {},
   "outputs": [
    {
     "name": "stdout",
     "output_type": "stream",
     "text": [
      "Dane testowe: 0.7999419279907085\n",
      "Dane treningowe: 0.8161759896145195\n"
     ]
    }
   ],
   "source": [
    "print('Dane testowe: {}'.format(roc_auc_score(y_test,PredTest[:, 1])))\n",
    "print('Dane treningowe: {}'.format(roc_auc_score(y_train,PredTrain[:, 1])))"
   ]
  },
  {
   "cell_type": "markdown",
   "metadata": {},
   "source": [
    "Dla Ada Boost Classifier Dane o dużej liczebności cech wskazują na występowanie zjawiska overfittingu (dane treningowe - 0.83, dane testowe - 0.77). Wynik dla danych o małej kardynalności różnica pomiędzy zbiorami wynosi 0.016."
   ]
  },
  {
   "cell_type": "markdown",
   "metadata": {},
   "source": [
    "<h1> Podsumowanie<h1>"
   ]
  },
  {
   "cell_type": "markdown",
   "metadata": {},
   "source": [
    "Tendencję dla nadmiernego dopasowania wykazuja algorytmy: Random Forest, Ada Boost Classifier i Gradient Boost Classifier. Dla tych algorytmów w przypadku danych o dużej liczebności cech różnice pomiędzy wynikiem dopasowania dla zbioru testowego i zbioru treningowego wynosiła około 0.1. Dla Logistic Regression różnica ta była minimalna. "
   ]
  },
  {
   "cell_type": "markdown",
   "metadata": {},
   "source": [
    "<h1> predict vs predict_proba<h1>"
   ]
  },
  {
   "cell_type": "markdown",
   "metadata": {},
   "source": [
    "<b>predict()</b>  - zwraca jako wynik dokładne dopasowanie do danej klasy <br>\n",
    "<b>predict_proba()</b> - zwraca jako wynik klasy prawdopodobieństwa, dla każdej potencjalnej klasy jest obliczane prawdopodobieństwo zaliczenia do niej danego elementu"
   ]
  }
 ],
 "metadata": {
  "interpreter": {
   "hash": "48bf74fde40f473be21c389489e069b179bcaad57c8bf9bd737d7dbcb7d5233d"
  },
  "kernelspec": {
   "display_name": "Python 3.6.10",
   "language": "python",
   "name": "python3"
  },
  "language_info": {
   "codemirror_mode": {
    "name": "ipython",
    "version": 3
   },
   "file_extension": ".py",
   "mimetype": "text/x-python",
   "name": "python",
   "nbconvert_exporter": "python",
   "pygments_lexer": "ipython3",
   "version": "3.6.10"
  },
  "orig_nbformat": 4
 },
 "nbformat": 4,
 "nbformat_minor": 2
}
