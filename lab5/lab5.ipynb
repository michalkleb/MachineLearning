{
 "cells": [
  {
   "cell_type": "code",
   "execution_count": 1,
   "metadata": {},
   "outputs": [],
   "source": [
    "import pandas as pd\n",
    "import numpy as np\n",
    "from sklearn.ensemble import RandomForestClassifier, GradientBoostingClassifier, AdaBoostClassifier\n",
    "from sklearn.linear_model import LogisticRegression\n",
    "from sklearn.metrics import roc_auc_score"
   ]
  },
  {
   "cell_type": "markdown",
   "metadata": {},
   "source": [
    "Wczytanie danych:"
   ]
  },
  {
   "cell_type": "code",
   "execution_count": 2,
   "metadata": {},
   "outputs": [],
   "source": [
    "y_train=pd.read_csv('y_train.csv')\n",
    "y_test=pd.read_csv('y_test.csv')\n",
    "X_train=pd.read_csv('X_train.csv')\n",
    "X_test=pd.read_csv('X_test.csv')"
   ]
  },
  {
   "cell_type": "code",
   "execution_count": 3,
   "metadata": {},
   "outputs": [
    {
     "data": {
      "text/html": [
       "<div>\n",
       "<style scoped>\n",
       "    .dataframe tbody tr th:only-of-type {\n",
       "        vertical-align: middle;\n",
       "    }\n",
       "\n",
       "    .dataframe tbody tr th {\n",
       "        vertical-align: top;\n",
       "    }\n",
       "\n",
       "    .dataframe thead th {\n",
       "        text-align: right;\n",
       "    }\n",
       "</style>\n",
       "<table border=\"1\" class=\"dataframe\">\n",
       "  <thead>\n",
       "    <tr style=\"text-align: right;\">\n",
       "      <th></th>\n",
       "      <th>sex</th>\n",
       "      <th>cabin</th>\n",
       "      <th>CabinReduced</th>\n",
       "      <th>cabin_map</th>\n",
       "      <th>cabin_map_reduced</th>\n",
       "      <th>sex_map</th>\n",
       "    </tr>\n",
       "  </thead>\n",
       "  <tbody>\n",
       "    <tr>\n",
       "      <th>0</th>\n",
       "      <td>female</td>\n",
       "      <td>NaN</td>\n",
       "      <td>NaN</td>\n",
       "      <td>6</td>\n",
       "      <td>5</td>\n",
       "      <td>0</td>\n",
       "    </tr>\n",
       "    <tr>\n",
       "      <th>1</th>\n",
       "      <td>female</td>\n",
       "      <td>NaN</td>\n",
       "      <td>NaN</td>\n",
       "      <td>6</td>\n",
       "      <td>5</td>\n",
       "      <td>0</td>\n",
       "    </tr>\n",
       "    <tr>\n",
       "      <th>2</th>\n",
       "      <td>female</td>\n",
       "      <td>NaN</td>\n",
       "      <td>NaN</td>\n",
       "      <td>6</td>\n",
       "      <td>5</td>\n",
       "      <td>0</td>\n",
       "    </tr>\n",
       "    <tr>\n",
       "      <th>3</th>\n",
       "      <td>male</td>\n",
       "      <td>NaN</td>\n",
       "      <td>NaN</td>\n",
       "      <td>6</td>\n",
       "      <td>5</td>\n",
       "      <td>1</td>\n",
       "    </tr>\n",
       "    <tr>\n",
       "      <th>4</th>\n",
       "      <td>female</td>\n",
       "      <td>NaN</td>\n",
       "      <td>NaN</td>\n",
       "      <td>6</td>\n",
       "      <td>5</td>\n",
       "      <td>0</td>\n",
       "    </tr>\n",
       "    <tr>\n",
       "      <th>...</th>\n",
       "      <td>...</td>\n",
       "      <td>...</td>\n",
       "      <td>...</td>\n",
       "      <td>...</td>\n",
       "      <td>...</td>\n",
       "      <td>...</td>\n",
       "    </tr>\n",
       "    <tr>\n",
       "      <th>911</th>\n",
       "      <td>female</td>\n",
       "      <td>NaN</td>\n",
       "      <td>NaN</td>\n",
       "      <td>6</td>\n",
       "      <td>5</td>\n",
       "      <td>0</td>\n",
       "    </tr>\n",
       "    <tr>\n",
       "      <th>912</th>\n",
       "      <td>male</td>\n",
       "      <td>NaN</td>\n",
       "      <td>NaN</td>\n",
       "      <td>6</td>\n",
       "      <td>5</td>\n",
       "      <td>1</td>\n",
       "    </tr>\n",
       "    <tr>\n",
       "      <th>913</th>\n",
       "      <td>female</td>\n",
       "      <td>NaN</td>\n",
       "      <td>NaN</td>\n",
       "      <td>6</td>\n",
       "      <td>5</td>\n",
       "      <td>0</td>\n",
       "    </tr>\n",
       "    <tr>\n",
       "      <th>914</th>\n",
       "      <td>female</td>\n",
       "      <td>NaN</td>\n",
       "      <td>NaN</td>\n",
       "      <td>6</td>\n",
       "      <td>5</td>\n",
       "      <td>0</td>\n",
       "    </tr>\n",
       "    <tr>\n",
       "      <th>915</th>\n",
       "      <td>female</td>\n",
       "      <td>NaN</td>\n",
       "      <td>NaN</td>\n",
       "      <td>6</td>\n",
       "      <td>5</td>\n",
       "      <td>0</td>\n",
       "    </tr>\n",
       "  </tbody>\n",
       "</table>\n",
       "<p>916 rows Ă— 6 columns</p>\n",
       "</div>"
      ],
      "text/plain": [
       "        sex cabin CabinReduced  cabin_map  cabin_map_reduced  sex_map\n",
       "0    female   NaN          NaN          6                  5        0\n",
       "1    female   NaN          NaN          6                  5        0\n",
       "2    female   NaN          NaN          6                  5        0\n",
       "3      male   NaN          NaN          6                  5        1\n",
       "4    female   NaN          NaN          6                  5        0\n",
       "..      ...   ...          ...        ...                ...      ...\n",
       "911  female   NaN          NaN          6                  5        0\n",
       "912    male   NaN          NaN          6                  5        1\n",
       "913  female   NaN          NaN          6                  5        0\n",
       "914  female   NaN          NaN          6                  5        0\n",
       "915  female   NaN          NaN          6                  5        0\n",
       "\n",
       "[916 rows x 6 columns]"
      ]
     },
     "execution_count": 3,
     "metadata": {},
     "output_type": "execute_result"
    }
   ],
   "source": [
    "X_train"
   ]
  },
  {
   "cell_type": "markdown",
   "metadata": {},
   "source": [
    "<h2> Random Forest<h2>"
   ]
  },
  {
   "cell_type": "markdown",
   "metadata": {},
   "source": [
    "**Algorytm Random Forests** jest to estymator ktĂłry dopasowuje wiele drzew decyzyjnych do prĂłbek pobranych z badanego zbioru danych.\n",
    "Przy pomocy uĹ›redniania steruje dokĹ‚adnoĹ›ciÄ… predykcji i kontroluje zjawisko over-fittingu. \n",
    "\n",
    "RandomForestClassifier, parametry:\n",
    "- n_estimators - liczba drzew w lesie\n",
    "- random state - kontroluje losowoĹ›Ä‡ procesu bootstrapingu "
   ]
  },
  {
   "cell_type": "markdown",
   "metadata": {},
   "source": [
    "**Dane o duĹĽej liczebnoĹ›ci cech:**"
   ]
  },
  {
   "cell_type": "code",
   "execution_count": 4,
   "metadata": {},
   "outputs": [],
   "source": [
    "#Tworzenie modelu\n",
    "RF = RandomForestClassifier(n_estimators=220,random_state=42)\n",
    "\n",
    "#Trenowanie modelu\n",
    "RF.fit(X_train[['sex_map','cabin_map']],np.ravel(y_train))\n",
    "\n",
    "#Predykcja\n",
    "PredTrain = RF.predict_proba(X_train[['sex_map','cabin_map']])\n",
    "PredTest = RF.predict_proba(X_test[['sex_map','cabin_map']].fillna(0))\n",
    "\n"
   ]
  },
  {
   "cell_type": "code",
   "execution_count": 5,
   "metadata": {},
   "outputs": [
    {
     "name": "stdout",
     "output_type": "stream",
     "text": [
      "Dane testowe: 0.7627758420441345\n",
      "Dane treningowe: 0.8529126140314685\n"
     ]
    }
   ],
   "source": [
    "print('Dane testowe: {}'.format(roc_auc_score(y_test,PredTest[:, 1])))\n",
    "print('Dane treningowe: {}'.format(roc_auc_score(y_train,PredTrain[:, 1])))"
   ]
  },
  {
   "cell_type": "markdown",
   "metadata": {},
   "source": [
    "**Dane o maĹ‚ej liczebnoĹ›ci cech:**"
   ]
  },
  {
   "cell_type": "code",
   "execution_count": 6,
   "metadata": {},
   "outputs": [],
   "source": [
    "#Trenowanie modelu\n",
    "RF.fit(X_train[['sex_map','cabin_map']],np.ravel(y_train))\n",
    "\n",
    "#Predykcja\n",
    "PredTrain = RF.predict_proba(X_train[['sex_map','cabin_map_reduced']])\n",
    "PredTest = RF.predict_proba(X_test[['sex_map','cabin_map_reduced']].fillna(0))"
   ]
  },
  {
   "cell_type": "code",
   "execution_count": 7,
   "metadata": {},
   "outputs": [
    {
     "name": "stdout",
     "output_type": "stream",
     "text": [
      "Dane testowe: 0.7017449256125214\n",
      "Dane treningowe: 0.7334544301822994\n"
     ]
    }
   ],
   "source": [
    "print('Dane testowe: {}'.format(roc_auc_score(y_test,PredTest[:, 1])))\n",
    "print('Dane treningowe: {}'.format(roc_auc_score(y_train,PredTrain[:, 1])))"
   ]
  },
  {
   "cell_type": "markdown",
   "metadata": {},
   "source": [
    "W przypadku algorytmu Random Forests dane o duĹĽej liczebnoĹ›ci cech uzyskaĹ‚y lepsze wyniki niĹĽ dane o maĹ‚ej liczebnoĹ›ci, poniewaĹĽ przez duĹĽÄ… kardynalnoĹ›c cech nastÄ…piĹ‚o zjawisko overfittingu -> wynik dla danych treningowych (0,85) zauwaĹĽalnie lepszy niĹĽ dla danych testowych (0,76)."
   ]
  },
  {
   "cell_type": "markdown",
   "metadata": {},
   "source": [
    "<h2> Logistic Regression<h2>"
   ]
  },
  {
   "cell_type": "markdown",
   "metadata": {},
   "source": [
    "Regresja logistyczna co do zasady jest podobna do zwykĹ‚ej regresji liniowej. PodstawowÄ… rĂłĹĽnicÄ… jest to, ĹĽe regresja logistyczna nie przewiduje wartoĹ›ci \"y\", tylko przewidywane jest prawdopodobieĹ„stwo wystÄ…pienia danej wartoĹ›ci dla zmiennej \"y\". Stosowana jest tutaj funkcja logistyczna postaci: f(x)=1/[1+e^(-Lx)], ktĂłra wymnoĹĽona przez dowolnÄ… liczbÄ™ rzeczywistÄ… daje wynik w przedziale 0-1, a wiÄ™c wspomniane wczeĹ›niej prawdopodobieĹ„stwo. Na koniec, na podstawie prawdopodobieĹ„stwa nastÄ™puje przypisanie danej obserwacji do danej klasy."
   ]
  },
  {
   "cell_type": "markdown",
   "metadata": {},
   "source": [
    "**Dane o maĹ‚ej liczebnoĹ›ci cech**"
   ]
  },
  {
   "cell_type": "code",
   "execution_count": 8,
   "metadata": {},
   "outputs": [],
   "source": [
    "#Tworzenie modelu\n",
    "LR = LogisticRegression(random_state=42)\n",
    "\n",
    "#Trenowanie modelu\n",
    "LR.fit(X_train[['sex_map','cabin_map_reduced']],np.ravel(y_train))\n",
    "\n",
    "#Predykcja\n",
    "PredTrain = LR.predict_proba(X_train[['sex_map','cabin_map_reduced']])\n",
    "PredTest = LR.predict_proba(X_test[['sex_map','cabin_map_reduced']].fillna(0))"
   ]
  },
  {
   "cell_type": "code",
   "execution_count": 9,
   "metadata": {},
   "outputs": [
    {
     "name": "stdout",
     "output_type": "stream",
     "text": [
      "Dane testowe: 0.8022648083623694\n",
      "Dane treningowe: 0.8026507127438499\n"
     ]
    }
   ],
   "source": [
    "print('Dane testowe: {}'.format(roc_auc_score(y_test,PredTest[:, 1])))\n",
    "print('Dane treningowe: {}'.format(roc_auc_score(y_train,PredTrain[:, 1])))"
   ]
  },
  {
   "cell_type": "markdown",
   "metadata": {},
   "source": [
    "\n",
    "**Dane o duĹĽej liczebnoĹ›ci cech**"
   ]
  },
  {
   "cell_type": "code",
   "execution_count": 10,
   "metadata": {},
   "outputs": [],
   "source": [
    "#Trenowanie modelu\n",
    "LR.fit(X_train[['sex_map','cabin_map']],np.ravel(y_train))\n",
    "\n",
    "#Predykcja\n",
    "PredTrain = LR.predict_proba(X_train[['sex_map','cabin_map']])\n",
    "PredTest = LR.predict_proba(X_test[['sex_map','cabin_map']].fillna(0))"
   ]
  },
  {
   "cell_type": "code",
   "execution_count": 11,
   "metadata": {},
   "outputs": [
    {
     "name": "stdout",
     "output_type": "stream",
     "text": [
      "Dane testowe: 0.7899867263978761\n",
      "Dane treningowe: 0.8121757682186185\n"
     ]
    }
   ],
   "source": [
    "print('Dane testowe: {}'.format(roc_auc_score(y_test,PredTest[:, 1])))\n",
    "print('Dane treningowe: {}'.format(roc_auc_score(y_train,PredTrain[:, 1])))"
   ]
  },
  {
   "cell_type": "markdown",
   "metadata": {},
   "source": [
    "W przypadku algorytmu LogisticReggresion wyniki dla obu zbiorĂłw, o duĹĽej i maĹ‚ej kardynalnoĹ›ci, sÄ… dla siebie zbliĹĽone, przy czym dla zbioru o maĹ‚ej liczebnoĹ›ci cech rĂłĹĽnica pomiÄ™dzy zbiorem testowym i treningowym jest minimalna i wynosi jedynie 0.0004, co wskazuje wystÄ…pienie zjawiska underfittingu. RĂłĹĽnica pomiÄ™dzy zbiorami treningowym i testowym dla danych o duĹĽej liczebnoĹ›ci cech wynosi 0.2 co wskazuje na lepsze dopasowanie."
   ]
  },
  {
   "cell_type": "markdown",
   "metadata": {},
   "source": [
    "<h2> Gradient Boosting Classifier<h2>"
   ]
  },
  {
   "cell_type": "markdown",
   "metadata": {},
   "source": [
    "Gradient Boosting Classifier jest to algorytm skĹ‚Ä…dajÄ…cy siÄ™ z N drzew decyzyjnych. W pierwszym kroku nastÄ™puje predykcja wartoĹ›ci \"y\" zbioru treningowego przy pomocy wartoĹ›ci \"X\" tego zbioru. NastÄ™pnie obliczana jest rĂłĹĽnica pomiÄ™dzy predykcjÄ… a danymi rzeczywistymi. RĂłĹĽnica ta jest wykorzystana w kolejnym kroku jako zmienna objaĹ›niana, przy czym dodatkowo zostaje przemnoĹĽona przez wartoĹ›ci wspĂłĹ‚czynnika \"learning_rate\" i ponownie nastÄ™puje predykcja itd. Innymi sĹ‚owy kaĹĽde kolejne drzewo decyzyjne dÄ…ĹĽy do zminimalizowania bĹ‚Ä™dĂłw popeĹ‚nionych przez swojego poprzednika."
   ]
  },
  {
   "cell_type": "markdown",
   "metadata": {},
   "source": [
    "**Dane o duĹĽej liczebnoĹ›ci cech**"
   ]
  },
  {
   "cell_type": "code",
   "execution_count": 12,
   "metadata": {},
   "outputs": [],
   "source": [
    "#Tworzenie modelu\n",
    "GBC = GradientBoostingClassifier(n_estimators =220, random_state=42)\n",
    "\n",
    "#Trenowanie modelu\n",
    "GBC.fit(X_train[['sex_map','cabin_map']],np.ravel(y_train))\n",
    "\n",
    "#Predykcja\n",
    "PredTrain = GBC.predict_proba(X_train[['sex_map','cabin_map']])\n",
    "PredTest = GBC.predict_proba(X_test[['sex_map','cabin_map']].fillna(0))"
   ]
  },
  {
   "cell_type": "code",
   "execution_count": 13,
   "metadata": {},
   "outputs": [
    {
     "name": "stdout",
     "output_type": "stream",
     "text": [
      "Dane testowe: 0.7561805209888833\n",
      "Dane treningowe: 0.8604375588082864\n"
     ]
    }
   ],
   "source": [
    "print('Dane testowe: {}'.format(roc_auc_score(y_test,PredTest[:, 1])))\n",
    "print('Dane treningowe: {}'.format(roc_auc_score(y_train,PredTrain[:, 1])))"
   ]
  },
  {
   "cell_type": "markdown",
   "metadata": {},
   "source": [
    "**Dane o maĹ‚ej liczeboĹ›ci cech**"
   ]
  },
  {
   "cell_type": "code",
   "execution_count": 14,
   "metadata": {},
   "outputs": [],
   "source": [
    "#Trenowanie modelu\n",
    "GBC.fit(X_train[['sex_map','cabin_map_reduced']],np.ravel(y_train))\n",
    "\n",
    "#Predykcja\n",
    "PredTrain = GBC.predict_proba(X_train[['sex_map','cabin_map_reduced']])\n",
    "PredTest = GBC.predict_proba(X_test[['sex_map','cabin_map_reduced']].fillna(0))"
   ]
  },
  {
   "cell_type": "code",
   "execution_count": 15,
   "metadata": {},
   "outputs": [
    {
     "name": "stdout",
     "output_type": "stream",
     "text": [
      "Dane testowe: 0.8013245948786019\n",
      "Dane treningowe: 0.816719415917359\n"
     ]
    }
   ],
   "source": [
    "print('Dane testowe: {}'.format(roc_auc_score(y_test,PredTest[:, 1])))\n",
    "print('Dane treningowe: {}'.format(roc_auc_score(y_train,PredTrain[:, 1])))"
   ]
  },
  {
   "cell_type": "markdown",
   "metadata": {},
   "source": [
    "Dla Gradient Boosting Classifier Dane o duĹĽej liczebnoĹ›ci cech wskazujÄ… na wystÄ™powanie zjawiska overfittingu (dane treningowe - 0.86, dane testowe - 0.75). Dla danych o maĹ‚ej kardynalnoĹ›ci rĂłĹĽnica pomiÄ™dzy zbiorami wynosi 0.01."
   ]
  },
  {
   "cell_type": "markdown",
   "metadata": {},
   "source": [
    "<h2> Ada Boost Classifier<h2>"
   ]
  },
  {
   "cell_type": "markdown",
   "metadata": {},
   "source": [
    "Ada Boost Clasifier jest podobny do poprzedniego algorytmu. RĂłwnieĹĽ wykonuje sekwencjÄ™ drzew decyzyjnych starajÄ…ch siÄ™ minimalizowaÄ‡ bĹ‚Ä™dy popeĹ‚nione przez swojego poprzednika. Jednak rĂłĹĽnica polega na sposobie uwzglÄ™dniania bĹ‚Ä™dĂłw poprzednika. Na podstawie wyliczonego bĹ‚Ä™du sÄ… ustanowione wagi dla zbioru treningowego. Obserwacje ktĂłre miaĹ‚y najwiÄ™ksze odchyĹ‚ki pomiÄ™dzy predykcjÄ… a rzeczywistÄ… wartoĹ›ciÄ… w kolejnym drzewie dostajÄ… wyĹĽsze wagi niĹĽ obserwacje prawdidĹ‚owo przewidziane. W ten sposĂłb kaĹĽde kolejne drzewo coraz lepiej dopasowuje siÄ™ do danych."
   ]
  },
  {
   "cell_type": "markdown",
   "metadata": {},
   "source": [
    "**Dane o duĹĽej liczebnoĹ›ci**"
   ]
  },
  {
   "cell_type": "code",
   "execution_count": 20,
   "metadata": {},
   "outputs": [],
   "source": [
    "#Tworzenie modelu\n",
    "ADC = AdaBoostClassifier(n_estimators =220, random_state=42)\n",
    "\n",
    "#Trenowanie modelu\n",
    "ADC.fit(X_train[['sex_map','cabin_map']],np.ravel(y_train))\n",
    "\n",
    "#Predykcja\n",
    "PredTrain = ADC.predict_proba(X_train[['sex_map','cabin_map']])\n",
    "PredTest = ADC.predict_proba(X_test[['sex_map','cabin_map']].fillna(0))"
   ]
  },
  {
   "cell_type": "code",
   "execution_count": 21,
   "metadata": {},
   "outputs": [
    {
     "name": "stdout",
     "output_type": "stream",
     "text": [
      "Dane testowe: 0.7776809910956253\n",
      "Dane treningowe: 0.8330800698403434\n"
     ]
    }
   ],
   "source": [
    "print('Dane testowe: {}'.format(roc_auc_score(y_test,PredTest[:, 1])))\n",
    "print('Dane treningowe: {}'.format(roc_auc_score(y_train,PredTrain[:, 1])))"
   ]
  },
  {
   "cell_type": "markdown",
   "metadata": {},
   "source": [
    "**Dane o maĹ‚ej liczebnoĹ›Ä‡i**"
   ]
  },
  {
   "cell_type": "code",
   "execution_count": 22,
   "metadata": {},
   "outputs": [],
   "source": [
    "#Trenowanie modelu\n",
    "ADC.fit(X_train[['sex_map','cabin_map_reduced']],np.ravel(y_train))\n",
    "\n",
    "#Predykcja\n",
    "PredTrain = ADC.predict_proba(X_train[['sex_map','cabin_map_reduced']])\n",
    "PredTest = ADC.predict_proba(X_test[['sex_map','cabin_map_reduced']].fillna(0))"
   ]
  },
  {
   "cell_type": "code",
   "execution_count": 23,
   "metadata": {},
   "outputs": [
    {
     "name": "stdout",
     "output_type": "stream",
     "text": [
      "Dane testowe: 0.7999419279907085\n",
      "Dane treningowe: 0.8161759896145195\n"
     ]
    }
   ],
   "source": [
    "print('Dane testowe: {}'.format(roc_auc_score(y_test,PredTest[:, 1])))\n",
    "print('Dane treningowe: {}'.format(roc_auc_score(y_train,PredTrain[:, 1])))"
   ]
  },
  {
   "cell_type": "markdown",
   "metadata": {},
   "source": [
    "Dla Ada Boost Classifier Dane o duĹĽej liczebnoĹ›ci cech wskazujÄ… na wystÄ™powanie zjawiska overfittingu (dane treningowe - 0.83, dane testowe - 0.77). Wynik dla danych o maĹ‚ej kardynalnoĹ›ci rĂłĹĽnica pomiÄ™dzy zbiorami wynosi 0.016."
   ]
  },
  {
   "cell_type": "markdown",
   "metadata": {},
   "source": [
    "<h1> Podsumowanie<h1>"
   ]
  },
  {
   "cell_type": "markdown",
   "metadata": {},
   "source": [
    "TendencjÄ™ dla nadmiernego dopasowania wykazuja algorytmy: Random Forest, Ada Boost Classifier i Gradient Boost Classifier. Dla tych algorytmĂłw w przypadku danych o duĹĽej liczebnoĹ›ci cech rĂłĹĽnice pomiÄ™dzy wynikiem dopasowania dla zbioru testowego i zbioru treningowego wynosiĹ‚a okoĹ‚o 0.1. Dla Logistic Regression rĂłĹĽnica ta byĹ‚a minimalna. "
   ]
  },
  {
   "cell_type": "markdown",
   "metadata": {},
   "source": [
    "<h1> predict vs predict_proba<h1>"
   ]
  },
  {
   "cell_type": "markdown",
   "metadata": {},
   "source": [
    "<b>predict()</b>  - zwraca jako wynik dokĹ‚adne dopasowanie do danej klasy <br>\n",
    "<b>predict_proba()</b> - zwraca jako wynik klasy prawdopodobieĹ„stwa, dla kaĹĽdej potencjalnej klasy jest obliczane prawdopodobieĹ„stwo zaliczenia do niej danego elementu"
   ]
  }
 ],
 "metadata": {
  "interpreter": {
   "hash": "48bf74fde40f473be21c389489e069b179bcaad57c8bf9bd737d7dbcb7d5233d"
  },
  "kernelspec": {
   "display_name": "Python 3.6.10",
   "language": "python",
   "name": "python3"
  },
  "language_info": {
   "codemirror_mode": {
    "name": "ipython",
    "version": 3
   },
   "file_extension": ".py",
   "mimetype": "text/x-python",
   "name": "python",
   "nbconvert_exporter": "python",
   "pygments_lexer": "ipython3",
   "version": "3.6.10"
  },
  "orig_nbformat": 4
 },
 "nbformat": 4,
 "nbformat_minor": 2
}
