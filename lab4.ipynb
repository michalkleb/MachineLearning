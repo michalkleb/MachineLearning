{
 "cells": [
  {
   "cell_type": "code",
   "execution_count": 1,
   "metadata": {},
   "outputs": [],
   "source": [
    "import pandas as pd\n",
    "from sklearn.model_selection import train_test_split"
   ]
  },
  {
   "cell_type": "markdown",
   "metadata": {},
   "source": [
    "<h1> Wczytanie danych <h1>"
   ]
  },
  {
   "cell_type": "code",
   "execution_count": 2,
   "metadata": {
    "collapsed": true,
    "jupyter": {
     "outputs_hidden": true
    }
   },
   "outputs": [
    {
     "data": {
      "text/html": [
       "<div>\n",
       "<style scoped>\n",
       "    .dataframe tbody tr th:only-of-type {\n",
       "        vertical-align: middle;\n",
       "    }\n",
       "\n",
       "    .dataframe tbody tr th {\n",
       "        vertical-align: top;\n",
       "    }\n",
       "\n",
       "    .dataframe thead th {\n",
       "        text-align: right;\n",
       "    }\n",
       "</style>\n",
       "<table border=\"1\" class=\"dataframe\">\n",
       "  <thead>\n",
       "    <tr style=\"text-align: right;\">\n",
       "      <th></th>\n",
       "      <th>Unnamed: 0</th>\n",
       "      <th>pclass</th>\n",
       "      <th>survived</th>\n",
       "      <th>name</th>\n",
       "      <th>sex</th>\n",
       "      <th>age</th>\n",
       "      <th>sibsp</th>\n",
       "      <th>parch</th>\n",
       "      <th>ticket</th>\n",
       "      <th>fare</th>\n",
       "      <th>cabin</th>\n",
       "      <th>embarked</th>\n",
       "      <th>boat</th>\n",
       "      <th>body</th>\n",
       "      <th>home.dest</th>\n",
       "      <th>KolumnNull</th>\n",
       "      <th>CabinReduced</th>\n",
       "    </tr>\n",
       "  </thead>\n",
       "  <tbody>\n",
       "    <tr>\n",
       "      <th>0</th>\n",
       "      <td>0</td>\n",
       "      <td>1</td>\n",
       "      <td>1</td>\n",
       "      <td>Allen, Miss. Elisabeth Walton</td>\n",
       "      <td>female</td>\n",
       "      <td>29.0000</td>\n",
       "      <td>0</td>\n",
       "      <td>0</td>\n",
       "      <td>24160</td>\n",
       "      <td>211.3375</td>\n",
       "      <td>B5</td>\n",
       "      <td>S</td>\n",
       "      <td>2</td>\n",
       "      <td>NaN</td>\n",
       "      <td>St Louis, MO</td>\n",
       "      <td>0</td>\n",
       "      <td>B</td>\n",
       "    </tr>\n",
       "    <tr>\n",
       "      <th>1</th>\n",
       "      <td>1</td>\n",
       "      <td>1</td>\n",
       "      <td>1</td>\n",
       "      <td>Allison, Master. Hudson Trevor</td>\n",
       "      <td>male</td>\n",
       "      <td>0.9167</td>\n",
       "      <td>1</td>\n",
       "      <td>2</td>\n",
       "      <td>113781</td>\n",
       "      <td>151.5500</td>\n",
       "      <td>C22 C26</td>\n",
       "      <td>S</td>\n",
       "      <td>11</td>\n",
       "      <td>NaN</td>\n",
       "      <td>Montreal, PQ / Chesterville, ON</td>\n",
       "      <td>0</td>\n",
       "      <td>C</td>\n",
       "    </tr>\n",
       "    <tr>\n",
       "      <th>2</th>\n",
       "      <td>2</td>\n",
       "      <td>1</td>\n",
       "      <td>0</td>\n",
       "      <td>Allison, Miss. Helen Loraine</td>\n",
       "      <td>female</td>\n",
       "      <td>2.0000</td>\n",
       "      <td>1</td>\n",
       "      <td>2</td>\n",
       "      <td>113781</td>\n",
       "      <td>151.5500</td>\n",
       "      <td>C22 C26</td>\n",
       "      <td>S</td>\n",
       "      <td>NaN</td>\n",
       "      <td>NaN</td>\n",
       "      <td>Montreal, PQ / Chesterville, ON</td>\n",
       "      <td>1</td>\n",
       "      <td>C</td>\n",
       "    </tr>\n",
       "    <tr>\n",
       "      <th>3</th>\n",
       "      <td>3</td>\n",
       "      <td>1</td>\n",
       "      <td>0</td>\n",
       "      <td>Allison, Mr. Hudson Joshua Creighton</td>\n",
       "      <td>male</td>\n",
       "      <td>30.0000</td>\n",
       "      <td>1</td>\n",
       "      <td>2</td>\n",
       "      <td>113781</td>\n",
       "      <td>151.5500</td>\n",
       "      <td>C22 C26</td>\n",
       "      <td>S</td>\n",
       "      <td>NaN</td>\n",
       "      <td>135.0</td>\n",
       "      <td>Montreal, PQ / Chesterville, ON</td>\n",
       "      <td>1</td>\n",
       "      <td>C</td>\n",
       "    </tr>\n",
       "    <tr>\n",
       "      <th>4</th>\n",
       "      <td>4</td>\n",
       "      <td>1</td>\n",
       "      <td>0</td>\n",
       "      <td>Allison, Mrs. Hudson J C (Bessie Waldo Daniels)</td>\n",
       "      <td>female</td>\n",
       "      <td>25.0000</td>\n",
       "      <td>1</td>\n",
       "      <td>2</td>\n",
       "      <td>113781</td>\n",
       "      <td>151.5500</td>\n",
       "      <td>C22 C26</td>\n",
       "      <td>S</td>\n",
       "      <td>NaN</td>\n",
       "      <td>NaN</td>\n",
       "      <td>Montreal, PQ / Chesterville, ON</td>\n",
       "      <td>1</td>\n",
       "      <td>C</td>\n",
       "    </tr>\n",
       "  </tbody>\n",
       "</table>\n",
       "</div>"
      ],
      "text/plain": [
       "   Unnamed: 0  pclass  survived  \\\n",
       "0           0       1         1   \n",
       "1           1       1         1   \n",
       "2           2       1         0   \n",
       "3           3       1         0   \n",
       "4           4       1         0   \n",
       "\n",
       "                                              name     sex      age  sibsp  \\\n",
       "0                    Allen, Miss. Elisabeth Walton  female  29.0000      0   \n",
       "1                   Allison, Master. Hudson Trevor    male   0.9167      1   \n",
       "2                     Allison, Miss. Helen Loraine  female   2.0000      1   \n",
       "3             Allison, Mr. Hudson Joshua Creighton    male  30.0000      1   \n",
       "4  Allison, Mrs. Hudson J C (Bessie Waldo Daniels)  female  25.0000      1   \n",
       "\n",
       "   parch  ticket      fare    cabin embarked boat   body  \\\n",
       "0      0   24160  211.3375       B5        S    2    NaN   \n",
       "1      2  113781  151.5500  C22 C26        S   11    NaN   \n",
       "2      2  113781  151.5500  C22 C26        S  NaN    NaN   \n",
       "3      2  113781  151.5500  C22 C26        S  NaN  135.0   \n",
       "4      2  113781  151.5500  C22 C26        S  NaN    NaN   \n",
       "\n",
       "                         home.dest  KolumnNull CabinReduced  \n",
       "0                     St Louis, MO           0            B  \n",
       "1  Montreal, PQ / Chesterville, ON           0            C  \n",
       "2  Montreal, PQ / Chesterville, ON           1            C  \n",
       "3  Montreal, PQ / Chesterville, ON           1            C  \n",
       "4  Montreal, PQ / Chesterville, ON           1            C  "
      ]
     },
     "execution_count": 2,
     "metadata": {},
     "output_type": "execute_result"
    }
   ],
   "source": [
    "data=pd.read_csv(\"data.csv\")\n",
    "data.head(5)"
   ]
  },
  {
   "cell_type": "markdown",
   "metadata": {},
   "source": [
    "Funkcja train_test_split przyjmuje parametry:\n",
    "- test_size\n",
    "- train_size (oba określają rozmiar danych testowych/treningowych w stosunku do cąłości zbioru, jeżeli jeden tylko zostanie ukreślony, drugi jest dopełnieniem do całości; wartość z przedziału 0-1)\n",
    "- arrays - zbiór danych (dataframe, numpy array, lista itd)\n",
    "- random_state - int odpowiadający za poziom przetasowania danych przed dokonaniem podziału na zbiory\n",
    "\n",
    "Wartość zwracana to dwa obiekty - zbiór testowy i zbiór treningowy"
   ]
  },
  {
   "cell_type": "code",
   "execution_count": 3,
   "metadata": {},
   "outputs": [
    {
     "data": {
      "text/html": [
       "<div>\n",
       "<style scoped>\n",
       "    .dataframe tbody tr th:only-of-type {\n",
       "        vertical-align: middle;\n",
       "    }\n",
       "\n",
       "    .dataframe tbody tr th {\n",
       "        vertical-align: top;\n",
       "    }\n",
       "\n",
       "    .dataframe thead th {\n",
       "        text-align: right;\n",
       "    }\n",
       "</style>\n",
       "<table border=\"1\" class=\"dataframe\">\n",
       "  <thead>\n",
       "    <tr style=\"text-align: right;\">\n",
       "      <th></th>\n",
       "      <th>sex</th>\n",
       "      <th>cabin</th>\n",
       "      <th>CabinReduced</th>\n",
       "    </tr>\n",
       "  </thead>\n",
       "  <tbody>\n",
       "    <tr>\n",
       "      <th>0</th>\n",
       "      <td>female</td>\n",
       "      <td>B5</td>\n",
       "      <td>B</td>\n",
       "    </tr>\n",
       "    <tr>\n",
       "      <th>1</th>\n",
       "      <td>male</td>\n",
       "      <td>C22 C26</td>\n",
       "      <td>C</td>\n",
       "    </tr>\n",
       "    <tr>\n",
       "      <th>2</th>\n",
       "      <td>female</td>\n",
       "      <td>C22 C26</td>\n",
       "      <td>C</td>\n",
       "    </tr>\n",
       "    <tr>\n",
       "      <th>3</th>\n",
       "      <td>male</td>\n",
       "      <td>C22 C26</td>\n",
       "      <td>C</td>\n",
       "    </tr>\n",
       "    <tr>\n",
       "      <th>4</th>\n",
       "      <td>female</td>\n",
       "      <td>C22 C26</td>\n",
       "      <td>C</td>\n",
       "    </tr>\n",
       "    <tr>\n",
       "      <th>...</th>\n",
       "      <td>...</td>\n",
       "      <td>...</td>\n",
       "      <td>...</td>\n",
       "    </tr>\n",
       "    <tr>\n",
       "      <th>1304</th>\n",
       "      <td>female</td>\n",
       "      <td>NaN</td>\n",
       "      <td>n</td>\n",
       "    </tr>\n",
       "    <tr>\n",
       "      <th>1305</th>\n",
       "      <td>female</td>\n",
       "      <td>NaN</td>\n",
       "      <td>n</td>\n",
       "    </tr>\n",
       "    <tr>\n",
       "      <th>1306</th>\n",
       "      <td>male</td>\n",
       "      <td>NaN</td>\n",
       "      <td>n</td>\n",
       "    </tr>\n",
       "    <tr>\n",
       "      <th>1307</th>\n",
       "      <td>male</td>\n",
       "      <td>NaN</td>\n",
       "      <td>n</td>\n",
       "    </tr>\n",
       "    <tr>\n",
       "      <th>1308</th>\n",
       "      <td>male</td>\n",
       "      <td>NaN</td>\n",
       "      <td>n</td>\n",
       "    </tr>\n",
       "  </tbody>\n",
       "</table>\n",
       "<p>1309 rows × 3 columns</p>\n",
       "</div>"
      ],
      "text/plain": [
       "         sex    cabin CabinReduced\n",
       "0     female       B5            B\n",
       "1       male  C22 C26            C\n",
       "2     female  C22 C26            C\n",
       "3       male  C22 C26            C\n",
       "4     female  C22 C26            C\n",
       "...      ...      ...          ...\n",
       "1304  female      NaN            n\n",
       "1305  female      NaN            n\n",
       "1306    male      NaN            n\n",
       "1307    male      NaN            n\n",
       "1308    male      NaN            n\n",
       "\n",
       "[1309 rows x 3 columns]"
      ]
     },
     "execution_count": 3,
     "metadata": {},
     "output_type": "execute_result"
    }
   ],
   "source": [
    "col_name = ['sex','cabin','CabinReduced']\n",
    "data[col_name]"
   ]
  },
  {
   "cell_type": "markdown",
   "metadata": {},
   "source": [
    "<h1> Podział zbioru na zbiór treningowy i zbiór testowy <h1>"
   ]
  },
  {
   "cell_type": "code",
   "execution_count": 4,
   "metadata": {},
   "outputs": [],
   "source": [
    "X_train, X_test, y_train, y_test = train_test_split(data[col_name],data['survived'],test_size=0.30,random_state = 0)"
   ]
  },
  {
   "cell_type": "code",
   "execution_count": 5,
   "metadata": {},
   "outputs": [
    {
     "name": "stdout",
     "output_type": "stream",
     "text": [
      "(916, 3) (393, 3) (916,) (393,)\n"
     ]
    }
   ],
   "source": [
    "print(X_train.shape,X_test.shape,y_train.shape,y_test.shape)\n"
   ]
  },
  {
   "cell_type": "markdown",
   "metadata": {},
   "source": [
    "X_test i y_test liczą po 393 obserwacji, co stanowi 30% całego zbioru danych (co zgadza się z tym co zostało podane w poleceniu funkcji train_test_split)\n"
   ]
  },
  {
   "cell_type": "markdown",
   "metadata": {},
   "source": [
    "<h1>Kardynalność zmiennych<h1>"
   ]
  },
  {
   "cell_type": "code",
   "execution_count": 6,
   "metadata": {},
   "outputs": [
    {
     "data": {
      "text/plain": [
       "0"
      ]
     },
     "execution_count": 6,
     "metadata": {},
     "output_type": "execute_result"
    }
   ],
   "source": [
    "Unique_test = [x for x in X_test.sex.unique() if x not in X_train.sex.unique()]\n",
    "len(Unique_test)"
   ]
  },
  {
   "cell_type": "code",
   "execution_count": 7,
   "metadata": {},
   "outputs": [
    {
     "data": {
      "text/plain": [
       "37"
      ]
     },
     "execution_count": 7,
     "metadata": {},
     "output_type": "execute_result"
    }
   ],
   "source": [
    "Unique_test = [x for x in X_test.cabin.unique() if x not in X_train.cabin.unique()]\n",
    "len(Unique_test)"
   ]
  },
  {
   "cell_type": "code",
   "execution_count": 8,
   "metadata": {},
   "outputs": [
    {
     "data": {
      "text/plain": [
       "0"
      ]
     },
     "execution_count": 8,
     "metadata": {},
     "output_type": "execute_result"
    }
   ],
   "source": [
    "Unique_test = [x for x in X_test.CabinReduced.unique() if x not in X_train.CabinReduced.unique()]\n",
    "len(Unique_test)"
   ]
  },
  {
   "cell_type": "markdown",
   "metadata": {},
   "source": [
    "Rozkład cech w zależności od kardynalności dla zmiennej sex i cabin jest równomierny, natomiast dla CabinReduced nie"
   ]
  },
  {
   "cell_type": "markdown",
   "metadata": {},
   "source": [
    "<h1> Kodowanie zmiennych kategorycznych do zmiennych liczbowych <h1>"
   ]
  },
  {
   "cell_type": "code",
   "execution_count": 10,
   "metadata": {
    "collapsed": true,
    "jupyter": {
     "outputs_hidden": true
    }
   },
   "outputs": [
    {
     "data": {
      "text/plain": [
       "{nan: 0,\n",
       " 'G6': 1,\n",
       " 'E12': 2,\n",
       " 'C104': 3,\n",
       " 'B57 B59 B63 B66': 4,\n",
       " 'A31': 5,\n",
       " 'B96 B98': 6,\n",
       " 'B18': 7,\n",
       " 'F33': 8,\n",
       " 'C124': 9,\n",
       " 'D11': 10,\n",
       " 'D48': 11,\n",
       " 'D10 D12': 12,\n",
       " 'D30': 13,\n",
       " 'B38': 14,\n",
       " 'D45': 15,\n",
       " 'D15': 16,\n",
       " 'C50': 17,\n",
       " 'C31': 18,\n",
       " 'E24': 19,\n",
       " 'B82 B84': 20,\n",
       " 'C85': 21,\n",
       " 'C22 C26': 22,\n",
       " 'A32': 23,\n",
       " 'C53': 24,\n",
       " 'B78': 25,\n",
       " 'B10': 26,\n",
       " 'C70': 27,\n",
       " 'A23': 28,\n",
       " 'B41': 29,\n",
       " 'C106': 30,\n",
       " 'D37': 31,\n",
       " 'C46': 32,\n",
       " 'B20': 33,\n",
       " 'E58': 34,\n",
       " 'D': 35,\n",
       " 'B11': 36,\n",
       " 'C101': 37,\n",
       " 'B49': 38,\n",
       " 'E25': 39,\n",
       " 'F E69': 40,\n",
       " 'B80': 41,\n",
       " 'C80': 42,\n",
       " 'C52': 43,\n",
       " 'C2': 44,\n",
       " 'E39 E41': 45,\n",
       " 'F4': 46,\n",
       " 'D22': 47,\n",
       " 'B51 B53 B55': 48,\n",
       " 'E40': 49,\n",
       " 'F G73': 50,\n",
       " 'A19': 51,\n",
       " 'C32': 52,\n",
       " 'B79': 53,\n",
       " 'C62 C64': 54,\n",
       " 'E8': 55,\n",
       " 'D28': 56,\n",
       " 'C45': 57,\n",
       " 'B22': 58,\n",
       " 'C23 C25 C27': 59,\n",
       " 'E44': 60,\n",
       " 'B45': 61,\n",
       " 'B39': 62,\n",
       " 'B58 B60': 63,\n",
       " 'F2': 64,\n",
       " 'C47': 65,\n",
       " 'B101': 66,\n",
       " 'D21': 67,\n",
       " 'A7': 68,\n",
       " 'E52': 69,\n",
       " 'F38': 70}"
      ]
     },
     "execution_count": 10,
     "metadata": {},
     "output_type": "execute_result"
    }
   ],
   "source": [
    "Dict_cabin_test={}\n",
    "for i,x in enumerate(X_test['cabin'].unique()):\n",
    "    Dict_cabin_test[x]=i\n",
    "Dict_cabin_test"
   ]
  },
  {
   "cell_type": "code",
   "execution_count": 11,
   "metadata": {},
   "outputs": [
    {
     "data": {
      "text/plain": [
       "{'n': 0, 'G': 1, 'E': 2, 'C': 3, 'B': 4, 'A': 5, 'F': 6, 'D': 7}"
      ]
     },
     "execution_count": 11,
     "metadata": {},
     "output_type": "execute_result"
    }
   ],
   "source": [
    "Dict_cabin_reduced_test={}\n",
    "for i,x in enumerate(X_test['CabinReduced'].unique()):\n",
    "    Dict_cabin_reduced_test[x]=i\n",
    "Dict_cabin_reduced_test"
   ]
  },
  {
   "cell_type": "code",
   "execution_count": 12,
   "metadata": {},
   "outputs": [
    {
     "data": {
      "text/plain": [
       "{'n': 0, 'E': 1, 'C': 2, 'D': 3, 'B': 4, 'A': 5, 'F': 6, 'T': 7, 'G': 8}"
      ]
     },
     "execution_count": 12,
     "metadata": {},
     "output_type": "execute_result"
    }
   ],
   "source": [
    "Dict_cabin_reduced_train={}\n",
    "for i,x in enumerate(X_train['CabinReduced'].unique()):\n",
    "    Dict_cabin_reduced_train[x]=i\n",
    "Dict_cabin_reduced_train"
   ]
  },
  {
   "cell_type": "code",
   "execution_count": 13,
   "metadata": {
    "collapsed": true,
    "jupyter": {
     "outputs_hidden": true
    }
   },
   "outputs": [
    {
     "data": {
      "text/plain": [
       "{nan: 0,\n",
       " 'E36': 1,\n",
       " 'C68': 2,\n",
       " 'E24': 3,\n",
       " 'C22 C26': 4,\n",
       " 'D38': 5,\n",
       " 'B50': 6,\n",
       " 'A24': 7,\n",
       " 'C111': 8,\n",
       " 'F': 9,\n",
       " 'C6': 10,\n",
       " 'C87': 11,\n",
       " 'E8': 12,\n",
       " 'B45': 13,\n",
       " 'C93': 14,\n",
       " 'D28': 15,\n",
       " 'D36': 16,\n",
       " 'C125': 17,\n",
       " 'B35': 18,\n",
       " 'T': 19,\n",
       " 'B73': 20,\n",
       " 'B57 B59 B63 B66': 21,\n",
       " 'A26': 22,\n",
       " 'A18': 23,\n",
       " 'B96 B98': 24,\n",
       " 'G6': 25,\n",
       " 'C78': 26,\n",
       " 'C101': 27,\n",
       " 'D9': 28,\n",
       " 'D33': 29,\n",
       " 'C128': 30,\n",
       " 'E50': 31,\n",
       " 'B26': 32,\n",
       " 'B69': 33,\n",
       " 'E121': 34,\n",
       " 'C123': 35,\n",
       " 'B94': 36,\n",
       " 'A34': 37,\n",
       " 'D': 38,\n",
       " 'C39': 39,\n",
       " 'D43': 40,\n",
       " 'E31': 41,\n",
       " 'B5': 42,\n",
       " 'D17': 43,\n",
       " 'F33': 44,\n",
       " 'E44': 45,\n",
       " 'D7': 46,\n",
       " 'A21': 47,\n",
       " 'D34': 48,\n",
       " 'A29': 49,\n",
       " 'D35': 50,\n",
       " 'A11': 51,\n",
       " 'B51 B53 B55': 52,\n",
       " 'D46': 53,\n",
       " 'E60': 54,\n",
       " 'C30': 55,\n",
       " 'D26': 56,\n",
       " 'E68': 57,\n",
       " 'A9': 58,\n",
       " 'B71': 59,\n",
       " 'D37': 60,\n",
       " 'F2': 61,\n",
       " 'C55 C57': 62,\n",
       " 'C89': 63,\n",
       " 'C124': 64,\n",
       " 'C23 C25 C27': 65,\n",
       " 'C126': 66,\n",
       " 'E49': 67,\n",
       " 'F E46': 68,\n",
       " 'E46': 69,\n",
       " 'D19': 70,\n",
       " 'B58 B60': 71,\n",
       " 'C82': 72,\n",
       " 'B52 B54 B56': 73,\n",
       " 'C92': 74,\n",
       " 'E45': 75,\n",
       " 'F G73': 76,\n",
       " 'C65': 77,\n",
       " 'E25': 78,\n",
       " 'B3': 79,\n",
       " 'D40': 80,\n",
       " 'C91': 81,\n",
       " 'B102': 82,\n",
       " 'B61': 83,\n",
       " 'F G63': 84,\n",
       " 'A20': 85,\n",
       " 'B36': 86,\n",
       " 'C7': 87,\n",
       " 'B77': 88,\n",
       " 'D20': 89,\n",
       " 'C148': 90,\n",
       " 'C105': 91,\n",
       " 'E38': 92,\n",
       " 'B86': 93,\n",
       " 'C132': 94,\n",
       " 'C86': 95,\n",
       " 'A14': 96,\n",
       " 'C54': 97,\n",
       " 'A5': 98,\n",
       " 'B49': 99,\n",
       " 'B28': 100,\n",
       " 'B24': 101,\n",
       " 'C2': 102,\n",
       " 'F4': 103,\n",
       " 'A6': 104,\n",
       " 'C83': 105,\n",
       " 'B42': 106,\n",
       " 'A36': 107,\n",
       " 'C52': 108,\n",
       " 'D56': 109,\n",
       " 'C116': 110,\n",
       " 'B19': 111,\n",
       " 'E77': 112,\n",
       " 'F E57': 113,\n",
       " 'E101': 114,\n",
       " 'B18': 115,\n",
       " 'C95': 116,\n",
       " 'D15': 117,\n",
       " 'E33': 118,\n",
       " 'B30': 119,\n",
       " 'D21': 120,\n",
       " 'E10': 121,\n",
       " 'C130': 122,\n",
       " 'D6': 123,\n",
       " 'C51': 124,\n",
       " 'D30': 125,\n",
       " 'E67': 126,\n",
       " 'C110': 127,\n",
       " 'C103': 128,\n",
       " 'C90': 129,\n",
       " 'C118': 130,\n",
       " 'C97': 131,\n",
       " 'D47': 132,\n",
       " 'E34': 133,\n",
       " 'B4': 134,\n",
       " 'D50': 135,\n",
       " 'C62 C64': 136,\n",
       " 'E17': 137,\n",
       " 'B41': 138,\n",
       " 'C49': 139,\n",
       " 'C85': 140,\n",
       " 'B20': 141,\n",
       " 'C28': 142,\n",
       " 'E63': 143,\n",
       " 'C99': 144,\n",
       " 'D49': 145,\n",
       " 'A10': 146,\n",
       " 'A16': 147,\n",
       " 'B37': 148,\n",
       " 'C80': 149,\n",
       " 'B78': 150}"
      ]
     },
     "execution_count": 13,
     "metadata": {},
     "output_type": "execute_result"
    }
   ],
   "source": [
    "Dict_cabin_train={}\n",
    "for i,x in enumerate(X_train['cabin'].unique()):\n",
    "    Dict_cabin_train[x]=i\n",
    "Dict_cabin_train"
   ]
  },
  {
   "cell_type": "code",
   "execution_count": 14,
   "metadata": {},
   "outputs": [
    {
     "data": {
      "text/plain": [
       "{'male': 0, 'female': 1}"
      ]
     },
     "execution_count": 14,
     "metadata": {},
     "output_type": "execute_result"
    }
   ],
   "source": [
    "Dict_sex_test={}\n",
    "for i, x in enumerate(X_test.sex.unique()):\n",
    "    Dict_sex_test[x]=i\n",
    "Dict_sex_test"
   ]
  },
  {
   "cell_type": "code",
   "execution_count": 15,
   "metadata": {},
   "outputs": [
    {
     "data": {
      "text/plain": [
       "{'female': 0, 'male': 1}"
      ]
     },
     "execution_count": 15,
     "metadata": {},
     "output_type": "execute_result"
    }
   ],
   "source": [
    "Dict_sex_train={}\n",
    "for i, x in enumerate(X_train.sex.unique()):\n",
    "    Dict_sex_train[x]=i\n",
    "Dict_sex_train"
   ]
  },
  {
   "cell_type": "markdown",
   "metadata": {},
   "source": [
    "<h1> Mapowanie zmienych <h1>"
   ]
  },
  {
   "cell_type": "code",
   "execution_count": 16,
   "metadata": {},
   "outputs": [],
   "source": [
    "X_test['cabin_map']=X_test['cabin'].map(Dict_cabin_test)\n",
    "X_train['cabin_map']=X_train['cabin'].map(Dict_cabin_train)\n",
    "X_train['cabin_map_reduced']=X_train['CabinReduced'].map(Dict_cabin_reduced_train)\n",
    "X_test['cabin_map_reduced']=X_test['CabinReduced'].map(Dict_cabin_reduced_test)\n",
    "X_test['sex_map']=X_test['sex'].map(Dict_sex_test)\n",
    "X_train['sex_map']=X_train['sex'].map(Dict_sex_train)"
   ]
  },
  {
   "cell_type": "code",
   "execution_count": 17,
   "metadata": {},
   "outputs": [
    {
     "name": "stdout",
     "output_type": "stream",
     "text": [
      "Nulle dla zbioru testowego :\n",
      "sex                    0\n",
      "cabin                312\n",
      "CabinReduced           0\n",
      "cabin_map              0\n",
      "cabin_map_reduced      0\n",
      "sex_map                0\n",
      "dtype: int64\n",
      "\n",
      "Nulle dla zbioru treningowego :\n",
      "sex                    0\n",
      "cabin                702\n",
      "CabinReduced           0\n",
      "cabin_map              0\n",
      "cabin_map_reduced      0\n",
      "sex_map                0\n",
      "dtype: int64\n"
     ]
    }
   ],
   "source": [
    "print(f'Nulle dla zbioru testowego :\\n{pd.isnull(X_test).sum()}\\n')\n",
    "print(f'Nulle dla zbioru treningowego :\\n{pd.isnull(X_train).sum()}')\n"
   ]
  },
  {
   "cell_type": "markdown",
   "metadata": {},
   "source": [
    "<p> W moim przypadku brakujące wartości dla zmiennych powstałych z mapowania już są ustawione jako wartość zero, dlatego w powyższym podsumowaniu nie ma wartości NaN dla nowych zmiennych <p>"
   ]
  },
  {
   "cell_type": "markdown",
   "metadata": {},
   "source": [
    "<h1> Podsumowanie <h1>"
   ]
  },
  {
   "cell_type": "code",
   "execution_count": 18,
   "metadata": {},
   "outputs": [
    {
     "name": "stdout",
     "output_type": "stream",
     "text": [
      "Liczba etykiet zmiennej CabinReduced test: 8\n",
      "Liczba etykiet zmiennej CabinReduced train: 9\n",
      "Liczba etykiet zmiennej cabin_map_reduced test: 8\n",
      "Liczba etykiet zmiennej cabin_map_reduced train: 9\n"
     ]
    }
   ],
   "source": [
    "print('Liczba etykiet zmiennej CabinReduced test: {}'.format(len(X_test[\"CabinReduced\"].unique())))\n",
    "print('Liczba etykiet zmiennej CabinReduced train: {}'.format(len(X_train[\"CabinReduced\"].unique())))\n",
    "print('Liczba etykiet zmiennej cabin_map_reduced test: {}'.format(len(X_test[\"cabin_map_reduced\"].unique())))\n",
    "print('Liczba etykiet zmiennej cabin_map_reduced train: {}'.format(len(X_train[\"cabin_map_reduced\"].unique())))\n"
   ]
  },
  {
   "cell_type": "code",
   "execution_count": 19,
   "metadata": {},
   "outputs": [
    {
     "name": "stdout",
     "output_type": "stream",
     "text": [
      "Liczba etykiet zmiennej cabin test: 71\n",
      "Liczba etykiet zmiennej cabin train: 151\n",
      "Liczba etykiet zmiennej cabin_map test: 71\n",
      "Liczba etykiet zmiennej cabin_map train: 151\n"
     ]
    }
   ],
   "source": [
    "print('Liczba etykiet zmiennej cabin test: {}'.format(len(X_test[\"cabin\"].unique())))\n",
    "print('Liczba etykiet zmiennej cabin train: {}'.format(len(X_train[\"cabin\"].unique())))\n",
    "print('Liczba etykiet zmiennej cabin_map test: {}'.format(len(X_test[\"cabin_map\"].unique())))\n",
    "print('Liczba etykiet zmiennej cabin_map train: {}'.format(len(X_train[\"cabin_map\"].unique())))\n"
   ]
  },
  {
   "cell_type": "code",
   "execution_count": 20,
   "metadata": {},
   "outputs": [
    {
     "name": "stdout",
     "output_type": "stream",
     "text": [
      "Liczba etykiet zmiennej sex test: 2\n",
      "Liczba etykiet zmiennej sex train: 2\n",
      "Liczba etykiet zmiennej sex_map test: 2\n",
      "Liczba etykiet zmiennej sex_map train: 2\n"
     ]
    }
   ],
   "source": [
    "print('Liczba etykiet zmiennej sex test: {}'.format(len(X_test[\"sex\"].unique())))\n",
    "print('Liczba etykiet zmiennej sex train: {}'.format(len(X_train[\"sex\"].unique())))\n",
    "print('Liczba etykiet zmiennej sex_map test: {}'.format(len(X_test[\"sex_map\"].unique())))\n",
    "print('Liczba etykiet zmiennej sex_map train: {}'.format(len(X_train[\"sex_map\"].unique())))\n"
   ]
  },
  {
   "cell_type": "markdown",
   "metadata": {},
   "source": [
    "<p> Ogólnie zbiór treningowy ma większą liczebność niż zbiór testowy, ponieważ jest znacznie większy (stosunek 30% do 70%).  Liczebność etykiet zmiennej cabin uległa znacznej redukcji. Z 151 do 8 dla zbioru treningowego i z 71 do 8 dla zbioru testowego. Proces redukcji etykiet i zamiany zmiennych kategorycznych na zmienne liczbowe ma duże znaczenie dla tworzenia modelu i predykcji. Zmniejszenie liczebności etykiet chroni przed overfittingiem i dominacją zmiennej o dużej kardynalności nad zmiennymi o mniejszej kardynalności. Natomiast zmiana wartości na liczbowe upraszcza tworzenie modelu.<p>"
   ]
  }
 ],
 "metadata": {
  "interpreter": {
   "hash": "48bf74fde40f473be21c389489e069b179bcaad57c8bf9bd737d7dbcb7d5233d"
  },
  "kernelspec": {
   "display_name": "Python py36",
   "language": "python",
   "name": "python3"
  },
  "language_info": {
   "codemirror_mode": {
    "name": "ipython",
    "version": 3
   },
   "file_extension": ".py",
   "mimetype": "text/x-python",
   "name": "python",
   "nbconvert_exporter": "python",
   "pygments_lexer": "ipython3",
   "version": "3.6.10"
  }
 },
 "nbformat": 4,
 "nbformat_minor": 4
}
