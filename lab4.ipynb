{
 "cells": [
  {
   "cell_type": "code",
   "execution_count": 2,
   "metadata": {},
   "outputs": [],
   "source": [
    "import pandas as pd\n",
    "from sklearn.model_selection import train_test_split"
   ]
  },
  {
   "cell_type": "markdown",
   "metadata": {},
   "source": [
    "<h1> Wczytanie danych <h1>"
   ]
  },
  {
   "cell_type": "code",
   "execution_count": 17,
   "metadata": {
    "collapsed": true,
    "jupyter": {
     "outputs_hidden": true
    }
   },
   "outputs": [
    {
     "data": {
      "text/html": [
       "<div>\n",
       "<style scoped>\n",
       "    .dataframe tbody tr th:only-of-type {\n",
       "        vertical-align: middle;\n",
       "    }\n",
       "\n",
       "    .dataframe tbody tr th {\n",
       "        vertical-align: top;\n",
       "    }\n",
       "\n",
       "    .dataframe thead th {\n",
       "        text-align: right;\n",
       "    }\n",
       "</style>\n",
       "<table border=\"1\" class=\"dataframe\">\n",
       "  <thead>\n",
       "    <tr style=\"text-align: right;\">\n",
       "      <th></th>\n",
       "      <th>Unnamed: 0</th>\n",
       "      <th>pclass</th>\n",
       "      <th>survived</th>\n",
       "      <th>name</th>\n",
       "      <th>sex</th>\n",
       "      <th>age</th>\n",
       "      <th>sibsp</th>\n",
       "      <th>parch</th>\n",
       "      <th>ticket</th>\n",
       "      <th>fare</th>\n",
       "      <th>cabin</th>\n",
       "      <th>embarked</th>\n",
       "      <th>boat</th>\n",
       "      <th>body</th>\n",
       "      <th>home.dest</th>\n",
       "      <th>KolumnNull</th>\n",
       "      <th>CabinReduced</th>\n",
       "    </tr>\n",
       "  </thead>\n",
       "  <tbody>\n",
       "    <tr>\n",
       "      <th>0</th>\n",
       "      <td>0</td>\n",
       "      <td>1</td>\n",
       "      <td>1</td>\n",
       "      <td>Allen, Miss. Elisabeth Walton</td>\n",
       "      <td>female</td>\n",
       "      <td>29.0000</td>\n",
       "      <td>0</td>\n",
       "      <td>0</td>\n",
       "      <td>24160</td>\n",
       "      <td>211.3375</td>\n",
       "      <td>B5</td>\n",
       "      <td>S</td>\n",
       "      <td>2</td>\n",
       "      <td>NaN</td>\n",
       "      <td>St Louis, MO</td>\n",
       "      <td>0</td>\n",
       "      <td>B</td>\n",
       "    </tr>\n",
       "    <tr>\n",
       "      <th>1</th>\n",
       "      <td>1</td>\n",
       "      <td>1</td>\n",
       "      <td>1</td>\n",
       "      <td>Allison, Master. Hudson Trevor</td>\n",
       "      <td>male</td>\n",
       "      <td>0.9167</td>\n",
       "      <td>1</td>\n",
       "      <td>2</td>\n",
       "      <td>113781</td>\n",
       "      <td>151.5500</td>\n",
       "      <td>C22 C26</td>\n",
       "      <td>S</td>\n",
       "      <td>11</td>\n",
       "      <td>NaN</td>\n",
       "      <td>Montreal, PQ / Chesterville, ON</td>\n",
       "      <td>0</td>\n",
       "      <td>C</td>\n",
       "    </tr>\n",
       "    <tr>\n",
       "      <th>2</th>\n",
       "      <td>2</td>\n",
       "      <td>1</td>\n",
       "      <td>0</td>\n",
       "      <td>Allison, Miss. Helen Loraine</td>\n",
       "      <td>female</td>\n",
       "      <td>2.0000</td>\n",
       "      <td>1</td>\n",
       "      <td>2</td>\n",
       "      <td>113781</td>\n",
       "      <td>151.5500</td>\n",
       "      <td>C22 C26</td>\n",
       "      <td>S</td>\n",
       "      <td>NaN</td>\n",
       "      <td>NaN</td>\n",
       "      <td>Montreal, PQ / Chesterville, ON</td>\n",
       "      <td>1</td>\n",
       "      <td>C</td>\n",
       "    </tr>\n",
       "    <tr>\n",
       "      <th>3</th>\n",
       "      <td>3</td>\n",
       "      <td>1</td>\n",
       "      <td>0</td>\n",
       "      <td>Allison, Mr. Hudson Joshua Creighton</td>\n",
       "      <td>male</td>\n",
       "      <td>30.0000</td>\n",
       "      <td>1</td>\n",
       "      <td>2</td>\n",
       "      <td>113781</td>\n",
       "      <td>151.5500</td>\n",
       "      <td>C22 C26</td>\n",
       "      <td>S</td>\n",
       "      <td>NaN</td>\n",
       "      <td>135.0</td>\n",
       "      <td>Montreal, PQ / Chesterville, ON</td>\n",
       "      <td>1</td>\n",
       "      <td>C</td>\n",
       "    </tr>\n",
       "    <tr>\n",
       "      <th>4</th>\n",
       "      <td>4</td>\n",
       "      <td>1</td>\n",
       "      <td>0</td>\n",
       "      <td>Allison, Mrs. Hudson J C (Bessie Waldo Daniels)</td>\n",
       "      <td>female</td>\n",
       "      <td>25.0000</td>\n",
       "      <td>1</td>\n",
       "      <td>2</td>\n",
       "      <td>113781</td>\n",
       "      <td>151.5500</td>\n",
       "      <td>C22 C26</td>\n",
       "      <td>S</td>\n",
       "      <td>NaN</td>\n",
       "      <td>NaN</td>\n",
       "      <td>Montreal, PQ / Chesterville, ON</td>\n",
       "      <td>1</td>\n",
       "      <td>C</td>\n",
       "    </tr>\n",
       "  </tbody>\n",
       "</table>\n",
       "</div>"
      ],
      "text/plain": [
       "   Unnamed: 0  pclass  survived  \\\n",
       "0           0       1         1   \n",
       "1           1       1         1   \n",
       "2           2       1         0   \n",
       "3           3       1         0   \n",
       "4           4       1         0   \n",
       "\n",
       "                                              name     sex      age  sibsp  \\\n",
       "0                    Allen, Miss. Elisabeth Walton  female  29.0000      0   \n",
       "1                   Allison, Master. Hudson Trevor    male   0.9167      1   \n",
       "2                     Allison, Miss. Helen Loraine  female   2.0000      1   \n",
       "3             Allison, Mr. Hudson Joshua Creighton    male  30.0000      1   \n",
       "4  Allison, Mrs. Hudson J C (Bessie Waldo Daniels)  female  25.0000      1   \n",
       "\n",
       "   parch  ticket      fare    cabin embarked boat   body  \\\n",
       "0      0   24160  211.3375       B5        S    2    NaN   \n",
       "1      2  113781  151.5500  C22 C26        S   11    NaN   \n",
       "2      2  113781  151.5500  C22 C26        S  NaN    NaN   \n",
       "3      2  113781  151.5500  C22 C26        S  NaN  135.0   \n",
       "4      2  113781  151.5500  C22 C26        S  NaN    NaN   \n",
       "\n",
       "                         home.dest  KolumnNull CabinReduced  \n",
       "0                     St Louis, MO           0            B  \n",
       "1  Montreal, PQ / Chesterville, ON           0            C  \n",
       "2  Montreal, PQ / Chesterville, ON           1            C  \n",
       "3  Montreal, PQ / Chesterville, ON           1            C  \n",
       "4  Montreal, PQ / Chesterville, ON           1            C  "
      ]
     },
     "execution_count": 17,
     "metadata": {},
     "output_type": "execute_result"
    }
   ],
   "source": [
    "data=pd.read_csv(\"data.csv\")\n",
    "data.head(5)"
   ]
  },
  {
   "cell_type": "markdown",
   "metadata": {},
   "source": [
    "Funkcja train_test_split przyjmuje parametry:\n",
    "- test_size\n",
    "- train_size (oba określają rozmiar danych testowych/treningowych w stosunku do cąłości zbioru, jeżeli jeden tylko zostanie ukreślony, drugi jest dopełnieniem do całości; wartość z przedziału 0-1)\n",
    "- arrays - zbiór danych (dataframe, numpy array, lista itd)\n",
    "- random_state - int odpowiadający za poziom przetasowania danych przed dokonaniem podziału na zbiory\n",
    "\n",
    "Wartość zwracana to dwa obiekty - zbiór testowy i zbiór treningowy"
   ]
  },
  {
   "cell_type": "code",
   "execution_count": 18,
   "metadata": {},
   "outputs": [
    {
     "data": {
      "text/html": [
       "<div>\n",
       "<style scoped>\n",
       "    .dataframe tbody tr th:only-of-type {\n",
       "        vertical-align: middle;\n",
       "    }\n",
       "\n",
       "    .dataframe tbody tr th {\n",
       "        vertical-align: top;\n",
       "    }\n",
       "\n",
       "    .dataframe thead th {\n",
       "        text-align: right;\n",
       "    }\n",
       "</style>\n",
       "<table border=\"1\" class=\"dataframe\">\n",
       "  <thead>\n",
       "    <tr style=\"text-align: right;\">\n",
       "      <th></th>\n",
       "      <th>sex</th>\n",
       "      <th>cabin</th>\n",
       "      <th>CabinReduced</th>\n",
       "    </tr>\n",
       "  </thead>\n",
       "  <tbody>\n",
       "    <tr>\n",
       "      <th>0</th>\n",
       "      <td>female</td>\n",
       "      <td>B5</td>\n",
       "      <td>B</td>\n",
       "    </tr>\n",
       "    <tr>\n",
       "      <th>1</th>\n",
       "      <td>male</td>\n",
       "      <td>C22 C26</td>\n",
       "      <td>C</td>\n",
       "    </tr>\n",
       "    <tr>\n",
       "      <th>2</th>\n",
       "      <td>female</td>\n",
       "      <td>C22 C26</td>\n",
       "      <td>C</td>\n",
       "    </tr>\n",
       "    <tr>\n",
       "      <th>3</th>\n",
       "      <td>male</td>\n",
       "      <td>C22 C26</td>\n",
       "      <td>C</td>\n",
       "    </tr>\n",
       "    <tr>\n",
       "      <th>4</th>\n",
       "      <td>female</td>\n",
       "      <td>C22 C26</td>\n",
       "      <td>C</td>\n",
       "    </tr>\n",
       "    <tr>\n",
       "      <th>...</th>\n",
       "      <td>...</td>\n",
       "      <td>...</td>\n",
       "      <td>...</td>\n",
       "    </tr>\n",
       "    <tr>\n",
       "      <th>1304</th>\n",
       "      <td>female</td>\n",
       "      <td>NaN</td>\n",
       "      <td>NaN</td>\n",
       "    </tr>\n",
       "    <tr>\n",
       "      <th>1305</th>\n",
       "      <td>female</td>\n",
       "      <td>NaN</td>\n",
       "      <td>NaN</td>\n",
       "    </tr>\n",
       "    <tr>\n",
       "      <th>1306</th>\n",
       "      <td>male</td>\n",
       "      <td>NaN</td>\n",
       "      <td>NaN</td>\n",
       "    </tr>\n",
       "    <tr>\n",
       "      <th>1307</th>\n",
       "      <td>male</td>\n",
       "      <td>NaN</td>\n",
       "      <td>NaN</td>\n",
       "    </tr>\n",
       "    <tr>\n",
       "      <th>1308</th>\n",
       "      <td>male</td>\n",
       "      <td>NaN</td>\n",
       "      <td>NaN</td>\n",
       "    </tr>\n",
       "  </tbody>\n",
       "</table>\n",
       "<p>1309 rows × 3 columns</p>\n",
       "</div>"
      ],
      "text/plain": [
       "         sex    cabin CabinReduced\n",
       "0     female       B5            B\n",
       "1       male  C22 C26            C\n",
       "2     female  C22 C26            C\n",
       "3       male  C22 C26            C\n",
       "4     female  C22 C26            C\n",
       "...      ...      ...          ...\n",
       "1304  female      NaN          NaN\n",
       "1305  female      NaN          NaN\n",
       "1306    male      NaN          NaN\n",
       "1307    male      NaN          NaN\n",
       "1308    male      NaN          NaN\n",
       "\n",
       "[1309 rows x 3 columns]"
      ]
     },
     "execution_count": 18,
     "metadata": {},
     "output_type": "execute_result"
    }
   ],
   "source": [
    "col_name = ['sex','cabin','CabinReduced']\n",
    "data[col_name]"
   ]
  },
  {
   "cell_type": "markdown",
   "metadata": {},
   "source": [
    "<h1> Podział zbioru na zbiór treningowy i zbiór testowy <h1>"
   ]
  },
  {
   "cell_type": "code",
   "execution_count": 6,
   "metadata": {},
   "outputs": [],
   "source": [
    "X_train, X_test, y_train, y_test = train_test_split(data[col_name],data['survived'],test_size=0.30,random_state = 0)"
   ]
  },
  {
   "cell_type": "code",
   "execution_count": 5,
   "metadata": {},
   "outputs": [
    {
     "name": "stdout",
     "output_type": "stream",
     "text": [
      "(916, 3) (393, 3) (916,) (393,)\n"
     ]
    }
   ],
   "source": [
    "print(X_train.shape,X_test.shape,y_train.shape,y_test.shape)\n"
   ]
  },
  {
   "cell_type": "markdown",
   "metadata": {},
   "source": [
    "X_test i y_test liczą po 393 obserwacji, co stanowi 30% całego zbioru danych (co zgadza się z tym co zostało podane w poleceniu funkcji train_test_split)\n"
   ]
  },
  {
   "cell_type": "markdown",
   "metadata": {},
   "source": [
    "<h1>Kardynalność zmiennych<h1>"
   ]
  },
  {
   "cell_type": "code",
   "execution_count": 6,
   "metadata": {},
   "outputs": [
    {
     "data": {
      "text/plain": [
       "0"
      ]
     },
     "execution_count": 6,
     "metadata": {},
     "output_type": "execute_result"
    }
   ],
   "source": [
    "Unique_test = [x for x in X_test.sex.unique() if x not in X_train.sex.unique()]\n",
    "len(Unique_test)"
   ]
  },
  {
   "cell_type": "code",
   "execution_count": 7,
   "metadata": {},
   "outputs": [
    {
     "data": {
      "text/plain": [
       "37"
      ]
     },
     "execution_count": 7,
     "metadata": {},
     "output_type": "execute_result"
    }
   ],
   "source": [
    "Unique_test = [x for x in X_test.cabin.unique() if x not in X_train.cabin.unique()]\n",
    "len(Unique_test)"
   ]
  },
  {
   "cell_type": "code",
   "execution_count": 8,
   "metadata": {},
   "outputs": [
    {
     "data": {
      "text/plain": [
       "0"
      ]
     },
     "execution_count": 8,
     "metadata": {},
     "output_type": "execute_result"
    }
   ],
   "source": [
    "Unique_test = [x for x in X_test.CabinReduced.unique() if x not in X_train.CabinReduced.unique()]\n",
    "len(Unique_test)"
   ]
  },
  {
   "cell_type": "markdown",
   "metadata": {},
   "source": [
    "Rozkład cech w zależności od kardynalności dla zmiennej sex i cabin jest równomierny, natomiast dla CabinReduced nie"
   ]
  },
  {
   "cell_type": "markdown",
   "metadata": {},
   "source": [
    "<h1> Kodowanie zmiennych kategorycznych do zmiennych liczbowych <h1>"
   ]
  },
  {
   "cell_type": "code",
   "execution_count": 19,
   "metadata": {},
   "outputs": [
    {
     "data": {
      "text/plain": [
       "{'B': 0, 'C': 1, 'E': 2, 'D': 3, 'A': 4, nan: 5, 'T': 6, 'F': 7, 'G': 8}"
      ]
     },
     "execution_count": 19,
     "metadata": {},
     "output_type": "execute_result"
    }
   ],
   "source": [
    "Dict_cabin_reduced={}\n",
    "for i,x in enumerate(data['CabinReduced'].unique()):\n",
    "    Dict_cabin_reduced[x]=i\n",
    "Dict_cabin_reduced"
   ]
  },
  {
   "cell_type": "code",
   "execution_count": 20,
   "metadata": {
    "collapsed": true,
    "jupyter": {
     "outputs_hidden": true
    }
   },
   "outputs": [
    {
     "data": {
      "text/plain": [
       "{'B5': 0,\n",
       " 'C22 C26': 1,\n",
       " 'E12': 2,\n",
       " 'D7': 3,\n",
       " 'A36': 4,\n",
       " 'C101': 5,\n",
       " nan: 6,\n",
       " 'C62 C64': 7,\n",
       " 'B35': 8,\n",
       " 'A23': 9,\n",
       " 'B58 B60': 10,\n",
       " 'D15': 11,\n",
       " 'C6': 12,\n",
       " 'D35': 13,\n",
       " 'C148': 14,\n",
       " 'C97': 15,\n",
       " 'B49': 16,\n",
       " 'C99': 17,\n",
       " 'C52': 18,\n",
       " 'T': 19,\n",
       " 'A31': 20,\n",
       " 'C7': 21,\n",
       " 'C103': 22,\n",
       " 'D22': 23,\n",
       " 'E33': 24,\n",
       " 'A21': 25,\n",
       " 'B10': 26,\n",
       " 'B4': 27,\n",
       " 'E40': 28,\n",
       " 'B38': 29,\n",
       " 'E24': 30,\n",
       " 'B51 B53 B55': 31,\n",
       " 'B96 B98': 32,\n",
       " 'C46': 33,\n",
       " 'E31': 34,\n",
       " 'E8': 35,\n",
       " 'B61': 36,\n",
       " 'B77': 37,\n",
       " 'A9': 38,\n",
       " 'C89': 39,\n",
       " 'A14': 40,\n",
       " 'E58': 41,\n",
       " 'E49': 42,\n",
       " 'E52': 43,\n",
       " 'E45': 44,\n",
       " 'B22': 45,\n",
       " 'B26': 46,\n",
       " 'C85': 47,\n",
       " 'E17': 48,\n",
       " 'B71': 49,\n",
       " 'B20': 50,\n",
       " 'A34': 51,\n",
       " 'C86': 52,\n",
       " 'A16': 53,\n",
       " 'A20': 54,\n",
       " 'A18': 55,\n",
       " 'C54': 56,\n",
       " 'C45': 57,\n",
       " 'D20': 58,\n",
       " 'A29': 59,\n",
       " 'C95': 60,\n",
       " 'E25': 61,\n",
       " 'C111': 62,\n",
       " 'C23 C25 C27': 63,\n",
       " 'E36': 64,\n",
       " 'D34': 65,\n",
       " 'D40': 66,\n",
       " 'B39': 67,\n",
       " 'B41': 68,\n",
       " 'B102': 69,\n",
       " 'C123': 70,\n",
       " 'E63': 71,\n",
       " 'C130': 72,\n",
       " 'B86': 73,\n",
       " 'C92': 74,\n",
       " 'A5': 75,\n",
       " 'C51': 76,\n",
       " 'B42': 77,\n",
       " 'C91': 78,\n",
       " 'C125': 79,\n",
       " 'D10 D12': 80,\n",
       " 'B82 B84': 81,\n",
       " 'E50': 82,\n",
       " 'D33': 83,\n",
       " 'C83': 84,\n",
       " 'B94': 85,\n",
       " 'D49': 86,\n",
       " 'D45': 87,\n",
       " 'B69': 88,\n",
       " 'B11': 89,\n",
       " 'E46': 90,\n",
       " 'C39': 91,\n",
       " 'B18': 92,\n",
       " 'D11': 93,\n",
       " 'C93': 94,\n",
       " 'B28': 95,\n",
       " 'C49': 96,\n",
       " 'B52 B54 B56': 97,\n",
       " 'E60': 98,\n",
       " 'C132': 99,\n",
       " 'B37': 100,\n",
       " 'D21': 101,\n",
       " 'D19': 102,\n",
       " 'C124': 103,\n",
       " 'D17': 104,\n",
       " 'B101': 105,\n",
       " 'D28': 106,\n",
       " 'D6': 107,\n",
       " 'D9': 108,\n",
       " 'B80': 109,\n",
       " 'C106': 110,\n",
       " 'B79': 111,\n",
       " 'C47': 112,\n",
       " 'D30': 113,\n",
       " 'C90': 114,\n",
       " 'E38': 115,\n",
       " 'C78': 116,\n",
       " 'C30': 117,\n",
       " 'C118': 118,\n",
       " 'D36': 119,\n",
       " 'D48': 120,\n",
       " 'D47': 121,\n",
       " 'C105': 122,\n",
       " 'B36': 123,\n",
       " 'B30': 124,\n",
       " 'D43': 125,\n",
       " 'B24': 126,\n",
       " 'C2': 127,\n",
       " 'C65': 128,\n",
       " 'B73': 129,\n",
       " 'C104': 130,\n",
       " 'C110': 131,\n",
       " 'C50': 132,\n",
       " 'B3': 133,\n",
       " 'A24': 134,\n",
       " 'A32': 135,\n",
       " 'A11': 136,\n",
       " 'A10': 137,\n",
       " 'B57 B59 B63 B66': 138,\n",
       " 'C28': 139,\n",
       " 'E44': 140,\n",
       " 'A26': 141,\n",
       " 'A6': 142,\n",
       " 'A7': 143,\n",
       " 'C31': 144,\n",
       " 'A19': 145,\n",
       " 'B45': 146,\n",
       " 'E34': 147,\n",
       " 'B78': 148,\n",
       " 'B50': 149,\n",
       " 'C87': 150,\n",
       " 'C116': 151,\n",
       " 'C55 C57': 152,\n",
       " 'D50': 153,\n",
       " 'E68': 154,\n",
       " 'E67': 155,\n",
       " 'C126': 156,\n",
       " 'C68': 157,\n",
       " 'C70': 158,\n",
       " 'C53': 159,\n",
       " 'B19': 160,\n",
       " 'D46': 161,\n",
       " 'D37': 162,\n",
       " 'D26': 163,\n",
       " 'C32': 164,\n",
       " 'C80': 165,\n",
       " 'C82': 166,\n",
       " 'C128': 167,\n",
       " 'E39 E41': 168,\n",
       " 'D': 169,\n",
       " 'F4': 170,\n",
       " 'D56': 171,\n",
       " 'F33': 172,\n",
       " 'E101': 173,\n",
       " 'E77': 174,\n",
       " 'F2': 175,\n",
       " 'D38': 176,\n",
       " 'F': 177,\n",
       " 'F G63': 178,\n",
       " 'F E57': 179,\n",
       " 'F E46': 180,\n",
       " 'F G73': 181,\n",
       " 'E121': 182,\n",
       " 'F E69': 183,\n",
       " 'E10': 184,\n",
       " 'G6': 185,\n",
       " 'F38': 186}"
      ]
     },
     "execution_count": 20,
     "metadata": {},
     "output_type": "execute_result"
    }
   ],
   "source": [
    "Dict_cabin={}\n",
    "for i,x in enumerate(data['cabin'].unique()):\n",
    "    Dict_cabin[x]=i\n",
    "Dict_cabin"
   ]
  },
  {
   "cell_type": "code",
   "execution_count": 21,
   "metadata": {},
   "outputs": [
    {
     "data": {
      "text/plain": [
       "{'female': 0, 'male': 1}"
      ]
     },
     "execution_count": 21,
     "metadata": {},
     "output_type": "execute_result"
    }
   ],
   "source": [
    "Dict_sex={}\n",
    "for i, x in enumerate(data.sex.unique()):\n",
    "    Dict_sex[x]=i\n",
    "Dict_sex"
   ]
  },
  {
   "cell_type": "markdown",
   "metadata": {},
   "source": [
    "<h1> Mapowanie zmienych <h1>"
   ]
  },
  {
   "cell_type": "code",
   "execution_count": 22,
   "metadata": {},
   "outputs": [],
   "source": [
    "X_test['cabin_map']=X_test['cabin'].map(Dict_cabin)\n",
    "X_train['cabin_map']=X_train['cabin'].map(Dict_cabin)\n",
    "X_train['cabin_map_reduced']=X_train['CabinReduced'].map(Dict_cabin_reduced)\n",
    "X_test['cabin_map_reduced']=X_test['CabinReduced'].map(Dict_cabin_reduced)\n",
    "X_test['sex_map']=X_test['sex'].map(Dict_sex)\n",
    "X_train['sex_map']=X_train['sex'].map(Dict_sex)\n"
   ]
  },
  {
   "cell_type": "code",
   "execution_count": 23,
   "metadata": {},
   "outputs": [
    {
     "name": "stdout",
     "output_type": "stream",
     "text": [
      "Nulle dla zbioru testowego :\n",
      "sex                    0\n",
      "cabin                312\n",
      "CabinReduced           0\n",
      "cabin_map              0\n",
      "cabin_map_reduced    312\n",
      "sex_map                0\n",
      "dtype: int64\n",
      "\n",
      "Nulle dla zbioru treningowego :\n",
      "sex                    0\n",
      "cabin                702\n",
      "CabinReduced           0\n",
      "cabin_map              0\n",
      "cabin_map_reduced    702\n",
      "sex_map                0\n",
      "dtype: int64\n"
     ]
    }
   ],
   "source": [
    "print(f'Nulle dla zbioru testowego :\\n{pd.isnull(X_test).sum()}\\n')\n",
    "print(f'Nulle dla zbioru treningowego :\\n{pd.isnull(X_train).sum()}')\n"
   ]
  },
  {
   "cell_type": "markdown",
   "metadata": {},
   "source": [
    "<p> W moim przypadku brakujące wartości dla zmiennych powstałych z mapowania już są ustawione jako wartość zero, dlatego w powyższym podsumowaniu nie ma wartości NaN dla nowych zmiennych. <p>"
   ]
  },
  {
   "cell_type": "markdown",
   "metadata": {},
   "source": [
    "<h1> Podsumowanie <h1>"
   ]
  },
  {
   "cell_type": "code",
   "execution_count": 24,
   "metadata": {},
   "outputs": [
    {
     "name": "stdout",
     "output_type": "stream",
     "text": [
      "Liczba etykiet zmiennej CabinReduced test: 8\n",
      "Liczba etykiet zmiennej CabinReduced train: 9\n",
      "Liczba etykiet zmiennej cabin_map_reduced test: 8\n",
      "Liczba etykiet zmiennej cabin_map_reduced train: 9\n"
     ]
    }
   ],
   "source": [
    "print('Liczba etykiet zmiennej CabinReduced test: {}'.format(len(X_test[\"CabinReduced\"].unique())))\n",
    "print('Liczba etykiet zmiennej CabinReduced train: {}'.format(len(X_train[\"CabinReduced\"].unique())))\n",
    "print('Liczba etykiet zmiennej cabin_map_reduced test: {}'.format(len(X_test[\"cabin_map_reduced\"].unique())))\n",
    "print('Liczba etykiet zmiennej cabin_map_reduced train: {}'.format(len(X_train[\"cabin_map_reduced\"].unique())))\n"
   ]
  },
  {
   "cell_type": "code",
   "execution_count": 25,
   "metadata": {},
   "outputs": [
    {
     "name": "stdout",
     "output_type": "stream",
     "text": [
      "Liczba etykiet zmiennej cabin test: 71\n",
      "Liczba etykiet zmiennej cabin train: 151\n",
      "Liczba etykiet zmiennej cabin_map test: 71\n",
      "Liczba etykiet zmiennej cabin_map train: 151\n"
     ]
    }
   ],
   "source": [
    "print('Liczba etykiet zmiennej cabin test: {}'.format(len(X_test[\"cabin\"].unique())))\n",
    "print('Liczba etykiet zmiennej cabin train: {}'.format(len(X_train[\"cabin\"].unique())))\n",
    "print('Liczba etykiet zmiennej cabin_map test: {}'.format(len(X_test[\"cabin_map\"].unique())))\n",
    "print('Liczba etykiet zmiennej cabin_map train: {}'.format(len(X_train[\"cabin_map\"].unique())))\n"
   ]
  },
  {
   "cell_type": "code",
   "execution_count": 26,
   "metadata": {},
   "outputs": [
    {
     "name": "stdout",
     "output_type": "stream",
     "text": [
      "Liczba etykiet zmiennej sex test: 2\n",
      "Liczba etykiet zmiennej sex train: 2\n",
      "Liczba etykiet zmiennej sex_map test: 2\n",
      "Liczba etykiet zmiennej sex_map train: 2\n"
     ]
    }
   ],
   "source": [
    "print('Liczba etykiet zmiennej sex test: {}'.format(len(X_test[\"sex\"].unique())))\n",
    "print('Liczba etykiet zmiennej sex train: {}'.format(len(X_train[\"sex\"].unique())))\n",
    "print('Liczba etykiet zmiennej sex_map test: {}'.format(len(X_test[\"sex_map\"].unique())))\n",
    "print('Liczba etykiet zmiennej sex_map train: {}'.format(len(X_train[\"sex_map\"].unique())))\n"
   ]
  },
  {
   "cell_type": "markdown",
   "metadata": {},
   "source": [
    "<p> Ogólnie zbiór treningowy ma większą liczebność niż zbiór testowy, ponieważ jest znacznie większy (stosunek 30% do 70%).  Liczebność etykiet zmiennej cabin uległa znacznej redukcji. Z 151 do 8 dla zbioru treningowego i z 71 do 8 dla zbioru testowego. Proces redukcji etykiet i zamiany zmiennych kategorycznych na zmienne liczbowe ma duże znaczenie dla tworzenia modelu i predykcji. Zmniejszenie liczebności etykiet chroni przed overfittingiem i dominacją zmiennej o dużej kardynalności nad zmiennymi o mniejszej kardynalności. Natomiast zmiana wartości na liczbowe upraszcza tworzenie modelu.<p>"
   ]
  }
 ],
 "metadata": {
  "interpreter": {
   "hash": "48bf74fde40f473be21c389489e069b179bcaad57c8bf9bd737d7dbcb7d5233d"
  },
  "kernelspec": {
   "display_name": "Python py36",
   "language": "python",
   "name": "python3"
  },
  "language_info": {
   "codemirror_mode": {
    "name": "ipython",
    "version": 3
   },
   "file_extension": ".py",
   "mimetype": "text/x-python",
   "name": "python",
   "nbconvert_exporter": "python",
   "pygments_lexer": "ipython3",
   "version": "3.6.10"
  }
 },
 "nbformat": 4,
 "nbformat_minor": 4
}
